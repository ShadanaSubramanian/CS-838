{
 "cells": [
  {
   "cell_type": "code",
   "execution_count": 3,
   "metadata": {},
   "outputs": [],
   "source": [
    "import deepmatcher as dm"
   ]
  },
  {
   "cell_type": "code",
   "execution_count": 7,
   "metadata": {},
   "outputs": [
    {
     "name": "stdout",
     "output_type": "stream",
     "text": [
      "Load time: 0.8557467170030577\n",
      "Vocab time: 36.338275869995414\n",
      "Metadata time: 1.19537819299876\n",
      "Cache time: 1.2622753480027313\n"
     ]
    }
   ],
   "source": [
    "train, validation, test = dm.data.process(path='Desktop/cs839/',\n",
    "    train='train_set.csv', validation='validation_set.csv', test='test_set.csv')"
   ]
  },
  {
   "cell_type": "code",
   "execution_count": 9,
   "metadata": {},
   "outputs": [
    {
     "data": {
      "text/html": [
       "<div>\n",
       "<style scoped>\n",
       "    .dataframe tbody tr th:only-of-type {\n",
       "        vertical-align: middle;\n",
       "    }\n",
       "\n",
       "    .dataframe tbody tr th {\n",
       "        vertical-align: top;\n",
       "    }\n",
       "\n",
       "    .dataframe thead th {\n",
       "        text-align: right;\n",
       "    }\n",
       "</style>\n",
       "<table border=\"1\" class=\"dataframe\">\n",
       "  <thead>\n",
       "    <tr style=\"text-align: right;\">\n",
       "      <th></th>\n",
       "      <th>id</th>\n",
       "      <th>left_id</th>\n",
       "      <th>right_id</th>\n",
       "      <th>left_Title</th>\n",
       "      <th>left_Authors</th>\n",
       "      <th>left_Genres</th>\n",
       "      <th>left_Publishing Date</th>\n",
       "      <th>left_Pages</th>\n",
       "      <th>left_Publisher</th>\n",
       "      <th>left_Language</th>\n",
       "      <th>right_Title</th>\n",
       "      <th>right_Authors</th>\n",
       "      <th>right_Genres</th>\n",
       "      <th>right_Publishing Date</th>\n",
       "      <th>right_Pages</th>\n",
       "      <th>right_Publisher</th>\n",
       "      <th>right_Language</th>\n",
       "      <th>label</th>\n",
       "    </tr>\n",
       "  </thead>\n",
       "  <tbody>\n",
       "    <tr>\n",
       "      <th>0</th>\n",
       "      <td>80236</td>\n",
       "      <td>382</td>\n",
       "      <td>3511</td>\n",
       "      <td>the secrets of sir richard kenworthy</td>\n",
       "      <td>julia quinn</td>\n",
       "      <td>romance : romance books : historical romance :...</td>\n",
       "      <td>01-feb-15</td>\n",
       "      <td>378</td>\n",
       "      <td>harpercollins publishers inc</td>\n",
       "      <td>english</td>\n",
       "      <td>the secrets of sir richard kenworthy</td>\n",
       "      <td>julia quinn</td>\n",
       "      <td>romance ; historical romance ; romance ; histo...</td>\n",
       "      <td>january 27th 2015</td>\n",
       "      <td>378</td>\n",
       "      <td>avon</td>\n",
       "      <td></td>\n",
       "      <td>1</td>\n",
       "    </tr>\n",
       "    <tr>\n",
       "      <th>1</th>\n",
       "      <td>20986</td>\n",
       "      <td>2673</td>\n",
       "      <td>618</td>\n",
       "      <td>hidden star</td>\n",
       "      <td>nora roberts</td>\n",
       "      <td>contemporary fiction : adult &amp;amp; contemporar...</td>\n",
       "      <td>15-dec-16</td>\n",
       "      <td>320</td>\n",
       "      <td>harpercollins publishers</td>\n",
       "      <td>english</td>\n",
       "      <td>hidden riches</td>\n",
       "      <td>nora roberts</td>\n",
       "      <td>romance ; romance ; romantic suspense ; romanc...</td>\n",
       "      <td>july 6th 2004</td>\n",
       "      <td>392</td>\n",
       "      <td>berkley</td>\n",
       "      <td>english</td>\n",
       "      <td>0</td>\n",
       "    </tr>\n",
       "    <tr>\n",
       "      <th>2</th>\n",
       "      <td>3770</td>\n",
       "      <td>366</td>\n",
       "      <td>111</td>\n",
       "      <td>paradise</td>\n",
       "      <td>judith mcnaught</td>\n",
       "      <td>romance : romance books : adult &amp;amp; contempo...</td>\n",
       "      <td>01-oct-06</td>\n",
       "      <td>709</td>\n",
       "      <td>simon &amp;amp; schuster ltd</td>\n",
       "      <td>english</td>\n",
       "      <td>paradise</td>\n",
       "      <td>judith mcnaught</td>\n",
       "      <td>romance ; romance ; contemporary romance ; con...</td>\n",
       "      <td>july 1st 2003</td>\n",
       "      <td>709</td>\n",
       "      <td>pocket books</td>\n",
       "      <td>english</td>\n",
       "      <td>1</td>\n",
       "    </tr>\n",
       "    <tr>\n",
       "      <th>3</th>\n",
       "      <td>5133</td>\n",
       "      <td>2640</td>\n",
       "      <td>150</td>\n",
       "      <td>big sky mountain</td>\n",
       "      <td>linda lael miller</td>\n",
       "      <td>adult &amp;amp; contemporary romance : adult &amp;amp;...</td>\n",
       "      <td>31-jul-12</td>\n",
       "      <td>378</td>\n",
       "      <td>harpercollins publishers</td>\n",
       "      <td>english</td>\n",
       "      <td>mackenzie &amp;apos;s mountain</td>\n",
       "      <td>linda howard</td>\n",
       "      <td>romance ; romance ; contemporary romance ; con...</td>\n",
       "      <td>march 1st 2000</td>\n",
       "      <td>256</td>\n",
       "      <td>mira books</td>\n",
       "      <td>english</td>\n",
       "      <td>0</td>\n",
       "    </tr>\n",
       "    <tr>\n",
       "      <th>4</th>\n",
       "      <td>12658</td>\n",
       "      <td>1587</td>\n",
       "      <td>328</td>\n",
       "      <td>the ideal bride</td>\n",
       "      <td>stephanie laurens</td>\n",
       "      <td>historical romance : historical romance : hist...</td>\n",
       "      <td>29-aug-11</td>\n",
       "      <td>431</td>\n",
       "      <td>harpercollins publishers inc</td>\n",
       "      <td>english</td>\n",
       "      <td>devil &amp;apos;s bride</td>\n",
       "      <td>stephanie laurens</td>\n",
       "      <td>romance ; historical romance ; historical ; hi...</td>\n",
       "      <td>march 1st 1998</td>\n",
       "      <td>388</td>\n",
       "      <td>avon</td>\n",
       "      <td>english</td>\n",
       "      <td>0</td>\n",
       "    </tr>\n",
       "  </tbody>\n",
       "</table>\n",
       "</div>"
      ],
      "text/plain": [
       "      id left_id right_id                            left_Title  \\\n",
       "0  80236     382     3511  the secrets of sir richard kenworthy   \n",
       "1  20986    2673      618                           hidden star   \n",
       "2   3770     366      111                              paradise   \n",
       "3   5133    2640      150                      big sky mountain   \n",
       "4  12658    1587      328                       the ideal bride   \n",
       "\n",
       "        left_Authors                                        left_Genres  \\\n",
       "0        julia quinn  romance : romance books : historical romance :...   \n",
       "1       nora roberts  contemporary fiction : adult &amp; contemporar...   \n",
       "2    judith mcnaught  romance : romance books : adult &amp; contempo...   \n",
       "3  linda lael miller  adult &amp; contemporary romance : adult &amp;...   \n",
       "4  stephanie laurens  historical romance : historical romance : hist...   \n",
       "\n",
       "  left_Publishing Date left_Pages                left_Publisher left_Language  \\\n",
       "0            01-feb-15        378  harpercollins publishers inc       english   \n",
       "1            15-dec-16        320      harpercollins publishers       english   \n",
       "2            01-oct-06        709      simon &amp; schuster ltd       english   \n",
       "3            31-jul-12        378      harpercollins publishers       english   \n",
       "4            29-aug-11        431  harpercollins publishers inc       english   \n",
       "\n",
       "                            right_Title      right_Authors  \\\n",
       "0  the secrets of sir richard kenworthy        julia quinn   \n",
       "1                         hidden riches       nora roberts   \n",
       "2                              paradise    judith mcnaught   \n",
       "3            mackenzie &apos;s mountain       linda howard   \n",
       "4                   devil &apos;s bride  stephanie laurens   \n",
       "\n",
       "                                        right_Genres right_Publishing Date  \\\n",
       "0  romance ; historical romance ; romance ; histo...     january 27th 2015   \n",
       "1  romance ; romance ; romantic suspense ; romanc...         july 6th 2004   \n",
       "2  romance ; romance ; contemporary romance ; con...         july 1st 2003   \n",
       "3  romance ; romance ; contemporary romance ; con...        march 1st 2000   \n",
       "4  romance ; historical romance ; historical ; hi...        march 1st 1998   \n",
       "\n",
       "  right_Pages right_Publisher right_Language  label  \n",
       "0         378            avon                     1  \n",
       "1         392         berkley        english      0  \n",
       "2         709    pocket books        english      1  \n",
       "3         256      mira books        english      0  \n",
       "4         388            avon        english      0  "
      ]
     },
     "execution_count": 9,
     "metadata": {},
     "output_type": "execute_result"
    }
   ],
   "source": [
    "train.get_raw_table().head()"
   ]
  },
  {
   "cell_type": "code",
   "execution_count": 10,
   "metadata": {},
   "outputs": [],
   "source": [
    "model = dm.MatchingModel()"
   ]
  },
  {
   "cell_type": "code",
   "execution_count": 11,
   "metadata": {},
   "outputs": [
    {
     "name": "stdout",
     "output_type": "stream",
     "text": [
      "* Number of trainable parameters: 17757810\n",
      "===>  TRAIN Epoch 1 :\n"
     ]
    },
    {
     "name": "stderr",
     "output_type": "stream",
     "text": [
      "0% [█] 100% | ETA: 00:00:00\n",
      "Total time elapsed: 00:00:10\n"
     ]
    },
    {
     "name": "stdout",
     "output_type": "stream",
     "text": [
      "Finished Epoch 1 || Run Time:   15.3 | Load Time:    0.0 || F1:  18.97 | Prec:  39.29 | Rec:  12.50 || Ex/s:  14.31\n",
      "\n",
      "===>  EVAL Epoch 1 :\n",
      "Finished Epoch 1 || Run Time:    0.6 | Load Time:    0.0 || F1:  68.57 | Prec:  54.55 | Rec:  92.31 || Ex/s:  49.16\n",
      "\n",
      "* Best F1: 68.57142857142857\n",
      "Saving best model...\n",
      "===>  TRAIN Epoch 2 :\n"
     ]
    },
    {
     "name": "stderr",
     "output_type": "stream",
     "text": [
      "0% [█] 100% | ETA: 00:00:00\n",
      "Total time elapsed: 00:00:09\n"
     ]
    },
    {
     "name": "stdout",
     "output_type": "stream",
     "text": [
      "Finished Epoch 2 || Run Time:   14.7 | Load Time:    0.0 || F1:  26.17 | Prec:  73.68 | Rec:  15.91 || Ex/s:  14.95\n",
      "\n",
      "===>  EVAL Epoch 2 :\n",
      "Finished Epoch 2 || Run Time:    0.6 | Load Time:    0.0 || F1:   0.00 | Prec:   0.00 | Rec:   0.00 || Ex/s:  50.23\n",
      "\n",
      "===>  TRAIN Epoch 3 :\n"
     ]
    },
    {
     "name": "stderr",
     "output_type": "stream",
     "text": [
      "0% [█] 100% | ETA: 00:00:00\n",
      "Total time elapsed: 00:00:09\n"
     ]
    },
    {
     "name": "stdout",
     "output_type": "stream",
     "text": [
      "Finished Epoch 3 || Run Time:   14.4 | Load Time:    0.0 || F1:   6.59 | Prec: 100.00 | Rec:   3.41 || Ex/s:  15.19\n",
      "\n",
      "===>  EVAL Epoch 3 :\n",
      "Finished Epoch 3 || Run Time:    0.7 | Load Time:    0.0 || F1:  44.44 | Prec:  80.00 | Rec:  30.77 || Ex/s:  43.61\n",
      "\n",
      "===>  TRAIN Epoch 4 :\n"
     ]
    },
    {
     "name": "stderr",
     "output_type": "stream",
     "text": [
      "0% [█] 100% | ETA: 00:00:00\n",
      "Total time elapsed: 00:00:09\n"
     ]
    },
    {
     "name": "stdout",
     "output_type": "stream",
     "text": [
      "Finished Epoch 4 || Run Time:   14.6 | Load Time:    0.0 || F1:  69.61 | Prec:  67.74 | Rec:  71.59 || Ex/s:  15.06\n",
      "\n",
      "===>  EVAL Epoch 4 :\n",
      "Finished Epoch 4 || Run Time:    0.6 | Load Time:    0.0 || F1:  66.67 | Prec:  55.00 | Rec:  84.62 || Ex/s:  49.06\n",
      "\n",
      "===>  TRAIN Epoch 5 :\n"
     ]
    },
    {
     "name": "stderr",
     "output_type": "stream",
     "text": [
      "0% [█] 100% | ETA: 00:00:00\n",
      "Total time elapsed: 00:00:09\n"
     ]
    },
    {
     "name": "stdout",
     "output_type": "stream",
     "text": [
      "Finished Epoch 5 || Run Time:   14.4 | Load Time:    0.0 || F1:  71.07 | Prec:  64.22 | Rec:  79.55 || Ex/s:  15.26\n",
      "\n",
      "===>  EVAL Epoch 5 :\n",
      "Finished Epoch 5 || Run Time:    0.6 | Load Time:    0.0 || F1:  68.97 | Prec:  62.50 | Rec:  76.92 || Ex/s:  46.95\n",
      "\n",
      "* Best F1: 68.96551724137932\n",
      "Saving best model...\n",
      "===>  TRAIN Epoch 6 :\n"
     ]
    },
    {
     "name": "stderr",
     "output_type": "stream",
     "text": [
      "0% [█] 100% | ETA: 00:00:00\n",
      "Total time elapsed: 00:00:09\n"
     ]
    },
    {
     "name": "stdout",
     "output_type": "stream",
     "text": [
      "Finished Epoch 6 || Run Time:   14.6 | Load Time:    0.0 || F1:  75.90 | Prec:  80.77 | Rec:  71.59 || Ex/s:  15.05\n",
      "\n",
      "===>  EVAL Epoch 6 :\n",
      "Finished Epoch 6 || Run Time:    0.6 | Load Time:    0.0 || F1:  72.00 | Prec:  75.00 | Rec:  69.23 || Ex/s:  50.02\n",
      "\n",
      "* Best F1: 72.0\n",
      "Saving best model...\n",
      "===>  TRAIN Epoch 7 :\n"
     ]
    },
    {
     "name": "stderr",
     "output_type": "stream",
     "text": [
      "0% [█] 100% | ETA: 00:00:00\n",
      "Total time elapsed: 00:00:09\n"
     ]
    },
    {
     "name": "stdout",
     "output_type": "stream",
     "text": [
      "Finished Epoch 7 || Run Time:   14.2 | Load Time:    0.0 || F1:  80.00 | Prec:  80.46 | Rec:  79.55 || Ex/s:  15.43\n",
      "\n",
      "===>  EVAL Epoch 7 :\n",
      "Finished Epoch 7 || Run Time:    0.6 | Load Time:    0.0 || F1:  74.07 | Prec:  71.43 | Rec:  76.92 || Ex/s:  50.20\n",
      "\n",
      "* Best F1: 74.07407407407408\n",
      "Saving best model...\n",
      "===>  TRAIN Epoch 8 :\n"
     ]
    },
    {
     "name": "stderr",
     "output_type": "stream",
     "text": [
      "0% [█] 100% | ETA: 00:00:00\n",
      "Total time elapsed: 00:00:09\n"
     ]
    },
    {
     "name": "stdout",
     "output_type": "stream",
     "text": [
      "Finished Epoch 8 || Run Time:   14.3 | Load Time:    0.0 || F1:  85.06 | Prec:  86.05 | Rec:  84.09 || Ex/s:  15.36\n",
      "\n",
      "===>  EVAL Epoch 8 :\n",
      "Finished Epoch 8 || Run Time:    0.6 | Load Time:    0.0 || F1:  74.07 | Prec:  71.43 | Rec:  76.92 || Ex/s:  50.13\n",
      "\n",
      "===>  TRAIN Epoch 9 :\n"
     ]
    },
    {
     "name": "stderr",
     "output_type": "stream",
     "text": [
      "0% [█] 100% | ETA: 00:00:00\n",
      "Total time elapsed: 00:00:09\n"
     ]
    },
    {
     "name": "stdout",
     "output_type": "stream",
     "text": [
      "Finished Epoch 9 || Run Time:   14.2 | Load Time:    0.0 || F1:  88.51 | Prec:  89.53 | Rec:  87.50 || Ex/s:  15.42\n",
      "\n",
      "===>  EVAL Epoch 9 :\n",
      "Finished Epoch 9 || Run Time:    0.6 | Load Time:    0.0 || F1:  72.00 | Prec:  75.00 | Rec:  69.23 || Ex/s:  50.02\n",
      "\n",
      "===>  TRAIN Epoch 10 :\n"
     ]
    },
    {
     "name": "stderr",
     "output_type": "stream",
     "text": [
      "0% [█] 100% | ETA: 00:00:00\n",
      "Total time elapsed: 00:00:09\n"
     ]
    },
    {
     "name": "stdout",
     "output_type": "stream",
     "text": [
      "Finished Epoch 10 || Run Time:   14.2 | Load Time:    0.0 || F1:  90.70 | Prec:  92.86 | Rec:  88.64 || Ex/s:  15.47\n",
      "\n",
      "===>  EVAL Epoch 10 :\n",
      "Finished Epoch 10 || Run Time:    0.6 | Load Time:    0.0 || F1:  69.23 | Prec:  69.23 | Rec:  69.23 || Ex/s:  50.12\n",
      "\n",
      "===>  TRAIN Epoch 11 :\n"
     ]
    },
    {
     "name": "stderr",
     "output_type": "stream",
     "text": [
      "0% [█] 100% | ETA: 00:00:00\n",
      "Total time elapsed: 00:00:09\n"
     ]
    },
    {
     "name": "stdout",
     "output_type": "stream",
     "text": [
      "Finished Epoch 11 || Run Time:   14.2 | Load Time:    0.0 || F1:  92.40 | Prec:  95.18 | Rec:  89.77 || Ex/s:  15.44\n",
      "\n",
      "===>  EVAL Epoch 11 :\n",
      "Finished Epoch 11 || Run Time:    0.6 | Load Time:    0.0 || F1:  64.00 | Prec:  66.67 | Rec:  61.54 || Ex/s:  50.26\n",
      "\n",
      "===>  TRAIN Epoch 12 :\n"
     ]
    },
    {
     "name": "stderr",
     "output_type": "stream",
     "text": [
      "0% [█] 100% | ETA: 00:00:00\n",
      "Total time elapsed: 00:00:09\n"
     ]
    },
    {
     "name": "stdout",
     "output_type": "stream",
     "text": [
      "Finished Epoch 12 || Run Time:   14.2 | Load Time:    0.0 || F1:  93.49 | Prec:  97.53 | Rec:  89.77 || Ex/s:  15.46\n",
      "\n",
      "===>  EVAL Epoch 12 :\n",
      "Finished Epoch 12 || Run Time:    0.6 | Load Time:    0.0 || F1:  61.54 | Prec:  61.54 | Rec:  61.54 || Ex/s:  50.28\n",
      "\n",
      "===>  TRAIN Epoch 13 :\n"
     ]
    },
    {
     "name": "stderr",
     "output_type": "stream",
     "text": [
      "0% [█] 100% | ETA: 00:00:00\n",
      "Total time elapsed: 00:00:09\n"
     ]
    },
    {
     "name": "stdout",
     "output_type": "stream",
     "text": [
      "Finished Epoch 13 || Run Time:   14.1 | Load Time:    0.0 || F1:  96.51 | Prec:  98.81 | Rec:  94.32 || Ex/s:  15.51\n",
      "\n",
      "===>  EVAL Epoch 13 :\n",
      "Finished Epoch 13 || Run Time:    0.6 | Load Time:    0.0 || F1:  59.26 | Prec:  57.14 | Rec:  61.54 || Ex/s:  50.26\n",
      "\n",
      "===>  TRAIN Epoch 14 :\n"
     ]
    },
    {
     "name": "stderr",
     "output_type": "stream",
     "text": [
      "0% [█] 100% | ETA: 00:00:00\n",
      "Total time elapsed: 00:00:09\n"
     ]
    },
    {
     "name": "stdout",
     "output_type": "stream",
     "text": [
      "Finished Epoch 14 || Run Time:   15.0 | Load Time:    0.0 || F1:  97.70 | Prec:  98.84 | Rec:  96.59 || Ex/s:  14.66\n",
      "\n",
      "===>  EVAL Epoch 14 :\n",
      "Finished Epoch 14 || Run Time:    0.6 | Load Time:    0.0 || F1:  53.85 | Prec:  53.85 | Rec:  53.85 || Ex/s:  48.75\n",
      "\n",
      "===>  TRAIN Epoch 15 :\n"
     ]
    },
    {
     "name": "stderr",
     "output_type": "stream",
     "text": [
      "0% [█] 100% | ETA: 00:00:00\n",
      "Total time elapsed: 00:00:09\n"
     ]
    },
    {
     "name": "stdout",
     "output_type": "stream",
     "text": [
      "Finished Epoch 15 || Run Time:   14.3 | Load Time:    0.0 || F1:  98.85 | Prec: 100.00 | Rec:  97.73 || Ex/s:  15.31\n",
      "\n",
      "===>  EVAL Epoch 15 :\n",
      "Finished Epoch 15 || Run Time:    0.6 | Load Time:    0.0 || F1:  53.85 | Prec:  53.85 | Rec:  53.85 || Ex/s:  48.59\n",
      "\n",
      "===>  TRAIN Epoch 16 :\n"
     ]
    },
    {
     "name": "stderr",
     "output_type": "stream",
     "text": [
      "0% [█] 100% | ETA: 00:00:00\n",
      "Total time elapsed: 00:00:09\n"
     ]
    },
    {
     "name": "stdout",
     "output_type": "stream",
     "text": [
      "Finished Epoch 16 || Run Time:   14.4 | Load Time:    0.0 || F1:  98.85 | Prec: 100.00 | Rec:  97.73 || Ex/s:  15.23\n",
      "\n",
      "===>  EVAL Epoch 16 :\n",
      "Finished Epoch 16 || Run Time:    0.6 | Load Time:    0.0 || F1:  51.85 | Prec:  50.00 | Rec:  53.85 || Ex/s:  49.13\n",
      "\n",
      "===>  TRAIN Epoch 17 :\n"
     ]
    },
    {
     "name": "stderr",
     "output_type": "stream",
     "text": [
      "0% [█] 100% | ETA: 00:00:00\n",
      "Total time elapsed: 00:00:09\n"
     ]
    },
    {
     "name": "stdout",
     "output_type": "stream",
     "text": [
      "Finished Epoch 17 || Run Time:   14.4 | Load Time:    0.0 || F1:  98.85 | Prec: 100.00 | Rec:  97.73 || Ex/s:  15.21\n",
      "\n",
      "===>  EVAL Epoch 17 :\n",
      "Finished Epoch 17 || Run Time:    0.6 | Load Time:    0.0 || F1:  51.85 | Prec:  50.00 | Rec:  53.85 || Ex/s:  48.87\n",
      "\n",
      "===>  TRAIN Epoch 18 :\n"
     ]
    },
    {
     "name": "stderr",
     "output_type": "stream",
     "text": [
      "0% [█] 100% | ETA: 00:00:00\n",
      "Total time elapsed: 00:00:09\n"
     ]
    },
    {
     "name": "stdout",
     "output_type": "stream",
     "text": [
      "Finished Epoch 18 || Run Time:   14.4 | Load Time:    0.0 || F1:  98.85 | Prec: 100.00 | Rec:  97.73 || Ex/s:  15.20\n",
      "\n",
      "===>  EVAL Epoch 18 :\n",
      "Finished Epoch 18 || Run Time:    0.6 | Load Time:    0.0 || F1:  51.85 | Prec:  50.00 | Rec:  53.85 || Ex/s:  48.70\n",
      "\n",
      "===>  TRAIN Epoch 19 :\n"
     ]
    },
    {
     "name": "stderr",
     "output_type": "stream",
     "text": [
      "0% [█] 100% | ETA: 00:00:00\n",
      "Total time elapsed: 00:00:09\n"
     ]
    },
    {
     "name": "stdout",
     "output_type": "stream",
     "text": [
      "Finished Epoch 19 || Run Time:   14.5 | Load Time:    0.0 || F1:  98.85 | Prec: 100.00 | Rec:  97.73 || Ex/s:  15.16\n",
      "\n",
      "===>  EVAL Epoch 19 :\n",
      "Finished Epoch 19 || Run Time:    0.6 | Load Time:    0.0 || F1:  51.85 | Prec:  50.00 | Rec:  53.85 || Ex/s:  48.69\n",
      "\n",
      "===>  TRAIN Epoch 20 :\n"
     ]
    },
    {
     "name": "stderr",
     "output_type": "stream",
     "text": [
      "0% [█] 100% | ETA: 00:00:00\n",
      "Total time elapsed: 00:00:09\n"
     ]
    },
    {
     "name": "stdout",
     "output_type": "stream",
     "text": [
      "Finished Epoch 20 || Run Time:   14.8 | Load Time:    0.0 || F1:  98.85 | Prec: 100.00 | Rec:  97.73 || Ex/s:  14.85\n",
      "\n",
      "===>  EVAL Epoch 20 :\n",
      "Finished Epoch 20 || Run Time:    0.6 | Load Time:    0.0 || F1:  51.85 | Prec:  50.00 | Rec:  53.85 || Ex/s:  49.04\n",
      "\n",
      "===>  TRAIN Epoch 21 :\n"
     ]
    },
    {
     "name": "stderr",
     "output_type": "stream",
     "text": [
      "0% [█] 100% | ETA: 00:00:00\n",
      "Total time elapsed: 00:00:09\n"
     ]
    },
    {
     "name": "stdout",
     "output_type": "stream",
     "text": [
      "Finished Epoch 21 || Run Time:   14.6 | Load Time:    0.0 || F1:  98.85 | Prec: 100.00 | Rec:  97.73 || Ex/s:  15.00\n",
      "\n",
      "===>  EVAL Epoch 21 :\n",
      "Finished Epoch 21 || Run Time:    0.6 | Load Time:    0.0 || F1:  51.85 | Prec:  50.00 | Rec:  53.85 || Ex/s:  49.35\n",
      "\n",
      "===>  TRAIN Epoch 22 :\n"
     ]
    },
    {
     "name": "stderr",
     "output_type": "stream",
     "text": [
      "0% [█] 100% | ETA: 00:00:00\n",
      "Total time elapsed: 00:00:09\n"
     ]
    },
    {
     "name": "stdout",
     "output_type": "stream",
     "text": [
      "Finished Epoch 22 || Run Time:   14.4 | Load Time:    0.0 || F1:  98.85 | Prec: 100.00 | Rec:  97.73 || Ex/s:  15.28\n",
      "\n",
      "===>  EVAL Epoch 22 :\n",
      "Finished Epoch 22 || Run Time:    0.6 | Load Time:    0.0 || F1:  51.85 | Prec:  50.00 | Rec:  53.85 || Ex/s:  49.48\n",
      "\n",
      "===>  TRAIN Epoch 23 :\n"
     ]
    },
    {
     "name": "stderr",
     "output_type": "stream",
     "text": [
      "0% [█] 100% | ETA: 00:00:00\n",
      "Total time elapsed: 00:00:09\n"
     ]
    },
    {
     "name": "stdout",
     "output_type": "stream",
     "text": [
      "Finished Epoch 23 || Run Time:   14.4 | Load Time:    0.0 || F1:  99.43 | Prec: 100.00 | Rec:  98.86 || Ex/s:  15.22\n",
      "\n",
      "===>  EVAL Epoch 23 :\n",
      "Finished Epoch 23 || Run Time:    0.6 | Load Time:    0.0 || F1:  51.85 | Prec:  50.00 | Rec:  53.85 || Ex/s:  46.51\n",
      "\n",
      "===>  TRAIN Epoch 24 :\n"
     ]
    },
    {
     "name": "stderr",
     "output_type": "stream",
     "text": [
      "0% [█] 100% | ETA: 00:00:00\n",
      "Total time elapsed: 00:00:09\n"
     ]
    },
    {
     "name": "stdout",
     "output_type": "stream",
     "text": [
      "Finished Epoch 24 || Run Time:   14.4 | Load Time:    0.0 || F1:  99.43 | Prec: 100.00 | Rec:  98.86 || Ex/s:  15.21\n",
      "\n",
      "===>  EVAL Epoch 24 :\n",
      "Finished Epoch 24 || Run Time:    0.6 | Load Time:    0.0 || F1:  51.85 | Prec:  50.00 | Rec:  53.85 || Ex/s:  48.76\n",
      "\n",
      "===>  TRAIN Epoch 25 :\n"
     ]
    },
    {
     "name": "stderr",
     "output_type": "stream",
     "text": [
      "0% [█] 100% | ETA: 00:00:00\n",
      "Total time elapsed: 00:00:09\n"
     ]
    },
    {
     "name": "stdout",
     "output_type": "stream",
     "text": [
      "Finished Epoch 25 || Run Time:   14.5 | Load Time:    0.0 || F1:  99.43 | Prec: 100.00 | Rec:  98.86 || Ex/s:  15.16\n",
      "\n",
      "===>  EVAL Epoch 25 :\n",
      "Finished Epoch 25 || Run Time:    0.6 | Load Time:    0.0 || F1:  51.85 | Prec:  50.00 | Rec:  53.85 || Ex/s:  48.89\n",
      "\n",
      "===>  TRAIN Epoch 26 :\n"
     ]
    },
    {
     "name": "stderr",
     "output_type": "stream",
     "text": [
      "0% [█] 100% | ETA: 00:00:00\n",
      "Total time elapsed: 00:00:09\n"
     ]
    },
    {
     "name": "stdout",
     "output_type": "stream",
     "text": [
      "Finished Epoch 26 || Run Time:   14.4 | Load Time:    0.0 || F1:  99.43 | Prec: 100.00 | Rec:  98.86 || Ex/s:  15.26\n",
      "\n",
      "===>  EVAL Epoch 26 :\n",
      "Finished Epoch 26 || Run Time:    0.6 | Load Time:    0.0 || F1:  51.85 | Prec:  50.00 | Rec:  53.85 || Ex/s:  48.70\n",
      "\n",
      "===>  TRAIN Epoch 27 :\n"
     ]
    },
    {
     "name": "stderr",
     "output_type": "stream",
     "text": [
      "0% [█] 100% | ETA: 00:00:00\n",
      "Total time elapsed: 00:00:09\n"
     ]
    },
    {
     "name": "stdout",
     "output_type": "stream",
     "text": [
      "Finished Epoch 27 || Run Time:   14.4 | Load Time:    0.0 || F1:  99.43 | Prec: 100.00 | Rec:  98.86 || Ex/s:  15.25\n",
      "\n",
      "===>  EVAL Epoch 27 :\n",
      "Finished Epoch 27 || Run Time:    0.6 | Load Time:    0.0 || F1:  51.85 | Prec:  50.00 | Rec:  53.85 || Ex/s:  49.12\n",
      "\n",
      "===>  TRAIN Epoch 28 :\n"
     ]
    },
    {
     "name": "stderr",
     "output_type": "stream",
     "text": [
      "0% [█] 100% | ETA: 00:00:00\n",
      "Total time elapsed: 00:00:09\n"
     ]
    },
    {
     "name": "stdout",
     "output_type": "stream",
     "text": [
      "Finished Epoch 28 || Run Time:   14.4 | Load Time:    0.0 || F1:  99.43 | Prec: 100.00 | Rec:  98.86 || Ex/s:  15.20\n",
      "\n",
      "===>  EVAL Epoch 28 :\n",
      "Finished Epoch 28 || Run Time:    0.6 | Load Time:    0.0 || F1:  51.85 | Prec:  50.00 | Rec:  53.85 || Ex/s:  48.55\n",
      "\n",
      "===>  TRAIN Epoch 29 :\n"
     ]
    },
    {
     "name": "stderr",
     "output_type": "stream",
     "text": [
      "0% [█] 100% | ETA: 00:00:00\n",
      "Total time elapsed: 00:00:09\n"
     ]
    },
    {
     "name": "stdout",
     "output_type": "stream",
     "text": [
      "Finished Epoch 29 || Run Time:   14.4 | Load Time:    0.0 || F1:  99.43 | Prec: 100.00 | Rec:  98.86 || Ex/s:  15.25\n",
      "\n",
      "===>  EVAL Epoch 29 :\n",
      "Finished Epoch 29 || Run Time:    0.6 | Load Time:    0.0 || F1:  51.85 | Prec:  50.00 | Rec:  53.85 || Ex/s:  48.71\n",
      "\n",
      "===>  TRAIN Epoch 30 :\n"
     ]
    },
    {
     "name": "stderr",
     "output_type": "stream",
     "text": [
      "0% [█] 100% | ETA: 00:00:00\n",
      "Total time elapsed: 00:00:09\n"
     ]
    },
    {
     "name": "stdout",
     "output_type": "stream",
     "text": [
      "Finished Epoch 30 || Run Time:   14.4 | Load Time:    0.0 || F1:  99.43 | Prec: 100.00 | Rec:  98.86 || Ex/s:  15.27\n",
      "\n",
      "===>  EVAL Epoch 30 :\n",
      "Finished Epoch 30 || Run Time:    0.6 | Load Time:    0.0 || F1:  51.85 | Prec:  50.00 | Rec:  53.85 || Ex/s:  48.94\n",
      "\n",
      "Loading best model...\n"
     ]
    }
   ],
   "source": [
    "model.run_train(train, validation, best_save_path='hybrid_model.pth')"
   ]
  },
  {
   "cell_type": "code",
   "execution_count": 12,
   "metadata": {},
   "outputs": [
    {
     "name": "stdout",
     "output_type": "stream",
     "text": [
      "===>  EVAL Epoch 7 :\n"
     ]
    },
    {
     "name": "stderr",
     "output_type": "stream",
     "text": [
      "0% [█] 100% | ETA: 00:00:00\n",
      "Total time elapsed: 00:00:03\n"
     ]
    },
    {
     "name": "stdout",
     "output_type": "stream",
     "text": [
      "Finished Epoch 7 || Run Time:    4.5 | Load Time:    0.1 || F1:  80.87 | Prec:  77.89 | Rec:  84.09 || Ex/s:  47.87\n",
      "\n"
     ]
    },
    {
     "data": {
      "text/plain": [
       "80.8743169398907"
      ]
     },
     "execution_count": 12,
     "metadata": {},
     "output_type": "execute_result"
    }
   ],
   "source": [
    "model.run_eval(train)"
   ]
  },
  {
   "cell_type": "code",
   "execution_count": 13,
   "metadata": {},
   "outputs": [
    {
     "name": "stdout",
     "output_type": "stream",
     "text": [
      "===>  EVAL Epoch 7 :\n",
      "Finished Epoch 7 || Run Time:    0.7 | Load Time:    0.0 || F1:  74.07 | Prec:  71.43 | Rec:  76.92 || Ex/s:  42.56\n",
      "\n"
     ]
    },
    {
     "data": {
      "text/plain": [
       "74.07407407407408"
      ]
     },
     "execution_count": 13,
     "metadata": {},
     "output_type": "execute_result"
    }
   ],
   "source": [
    "model.run_eval(validation)"
   ]
  },
  {
   "cell_type": "code",
   "execution_count": 14,
   "metadata": {},
   "outputs": [
    {
     "name": "stdout",
     "output_type": "stream",
     "text": [
      "===>  EVAL Epoch 7 :\n"
     ]
    },
    {
     "name": "stderr",
     "output_type": "stream",
     "text": [
      "0% [█] 100% | ETA: 00:00:00\n",
      "Total time elapsed: 00:00:02\n"
     ]
    },
    {
     "name": "stdout",
     "output_type": "stream",
     "text": [
      "Finished Epoch 7 || Run Time:    4.8 | Load Time:    0.1 || F1:  57.14 | Prec:  55.45 | Rec:  58.95 || Ex/s:  51.15\n",
      "\n"
     ]
    },
    {
     "data": {
      "text/plain": [
       "57.142857142857146"
      ]
     },
     "execution_count": 14,
     "metadata": {},
     "output_type": "execute_result"
    }
   ],
   "source": [
    "model.run_eval(test)"
   ]
  },
  {
   "cell_type": "code",
   "execution_count": 17,
   "metadata": {},
   "outputs": [],
   "source": [
    "model1 = dm.MatchingModel(classifier='3-layer-residual-relu')\n",
    "model1.initialize(train)"
   ]
  },
  {
   "cell_type": "code",
   "execution_count": 18,
   "metadata": {},
   "outputs": [
    {
     "name": "stdout",
     "output_type": "stream",
     "text": [
      "* Number of trainable parameters: 17938410\n",
      "===>  TRAIN Epoch 1 :\n"
     ]
    },
    {
     "name": "stderr",
     "output_type": "stream",
     "text": [
      "0% [█] 100% | ETA: 00:00:00\n",
      "Total time elapsed: 00:00:10\n"
     ]
    },
    {
     "name": "stdout",
     "output_type": "stream",
     "text": [
      "Finished Epoch 1 || Run Time:   15.0 | Load Time:    0.0 || F1:  21.82 | Prec:  54.55 | Rec:  13.64 || Ex/s:  14.59\n",
      "\n",
      "===>  EVAL Epoch 1 :\n",
      "Finished Epoch 1 || Run Time:    0.6 | Load Time:    0.0 || F1:   0.00 | Prec:   0.00 | Rec:   0.00 || Ex/s:  46.26\n",
      "\n",
      "* Best F1: 0.0\n",
      "Saving best model...\n",
      "===>  TRAIN Epoch 2 :\n"
     ]
    },
    {
     "name": "stderr",
     "output_type": "stream",
     "text": [
      "0% [█] 100% | ETA: 00:00:00\n",
      "Total time elapsed: 00:00:09\n"
     ]
    },
    {
     "name": "stdout",
     "output_type": "stream",
     "text": [
      "Finished Epoch 2 || Run Time:   14.7 | Load Time:    0.0 || F1:   0.00 | Prec:   0.00 | Rec:   0.00 || Ex/s:  14.95\n",
      "\n",
      "===>  EVAL Epoch 2 :\n",
      "Finished Epoch 2 || Run Time:    0.6 | Load Time:    0.0 || F1:  26.67 | Prec: 100.00 | Rec:  15.38 || Ex/s:  50.59\n",
      "\n",
      "* Best F1: 26.666666666666668\n",
      "Saving best model...\n",
      "===>  TRAIN Epoch 3 :\n"
     ]
    },
    {
     "name": "stderr",
     "output_type": "stream",
     "text": [
      "0% [█] 100% | ETA: 00:00:00\n",
      "Total time elapsed: 00:00:09\n"
     ]
    },
    {
     "name": "stdout",
     "output_type": "stream",
     "text": [
      "Finished Epoch 3 || Run Time:   14.3 | Load Time:    0.0 || F1:  66.29 | Prec:  65.56 | Rec:  67.05 || Ex/s:  15.35\n",
      "\n",
      "===>  EVAL Epoch 3 :\n",
      "Finished Epoch 3 || Run Time:    0.6 | Load Time:    0.0 || F1:  66.67 | Prec:  55.00 | Rec:  84.62 || Ex/s:  50.64\n",
      "\n",
      "* Best F1: 66.66666666666666\n",
      "Saving best model...\n",
      "===>  TRAIN Epoch 4 :\n"
     ]
    },
    {
     "name": "stderr",
     "output_type": "stream",
     "text": [
      "0% [█] 100% | ETA: 00:00:00\n",
      "Total time elapsed: 00:00:09\n"
     ]
    },
    {
     "name": "stdout",
     "output_type": "stream",
     "text": [
      "Finished Epoch 4 || Run Time:   14.2 | Load Time:    0.0 || F1:  66.29 | Prec:  65.56 | Rec:  67.05 || Ex/s:  15.49\n",
      "\n",
      "===>  EVAL Epoch 4 :\n",
      "Finished Epoch 4 || Run Time:    0.6 | Load Time:    0.0 || F1:  66.67 | Prec:  52.17 | Rec:  92.31 || Ex/s:  50.56\n",
      "\n",
      "===>  TRAIN Epoch 5 :\n"
     ]
    },
    {
     "name": "stderr",
     "output_type": "stream",
     "text": [
      "0% [█] 100% | ETA: 00:00:00\n",
      "Total time elapsed: 00:00:09\n"
     ]
    },
    {
     "name": "stdout",
     "output_type": "stream",
     "text": [
      "Finished Epoch 5 || Run Time:   14.2 | Load Time:    0.0 || F1:  72.32 | Prec:  71.91 | Rec:  72.73 || Ex/s:  15.48\n",
      "\n",
      "===>  EVAL Epoch 5 :\n",
      "Finished Epoch 5 || Run Time:    0.6 | Load Time:    0.0 || F1:  70.59 | Prec:  57.14 | Rec:  92.31 || Ex/s:  50.40\n",
      "\n",
      "* Best F1: 70.58823529411765\n",
      "Saving best model...\n",
      "===>  TRAIN Epoch 6 :\n"
     ]
    },
    {
     "name": "stderr",
     "output_type": "stream",
     "text": [
      "0% [█] 100% | ETA: 00:00:00\n",
      "Total time elapsed: 00:00:09\n"
     ]
    },
    {
     "name": "stdout",
     "output_type": "stream",
     "text": [
      "Finished Epoch 6 || Run Time:   14.4 | Load Time:    0.0 || F1:  82.02 | Prec:  81.11 | Rec:  82.95 || Ex/s:  15.28\n",
      "\n",
      "===>  EVAL Epoch 6 :\n",
      "Finished Epoch 6 || Run Time:    0.6 | Load Time:    0.0 || F1:  66.67 | Prec:  58.82 | Rec:  76.92 || Ex/s:  50.25\n",
      "\n",
      "===>  TRAIN Epoch 7 :\n"
     ]
    },
    {
     "name": "stderr",
     "output_type": "stream",
     "text": [
      "0% [█] 100% | ETA: 00:00:00\n",
      "Total time elapsed: 00:00:09\n"
     ]
    },
    {
     "name": "stdout",
     "output_type": "stream",
     "text": [
      "Finished Epoch 7 || Run Time:   14.3 | Load Time:    0.0 || F1:  89.53 | Prec:  91.67 | Rec:  87.50 || Ex/s:  15.36\n",
      "\n",
      "===>  EVAL Epoch 7 :\n",
      "Finished Epoch 7 || Run Time:    0.6 | Load Time:    0.0 || F1:  70.97 | Prec:  61.11 | Rec:  84.62 || Ex/s:  50.27\n",
      "\n",
      "* Best F1: 70.96774193548387\n",
      "Saving best model...\n",
      "===>  TRAIN Epoch 8 :\n"
     ]
    },
    {
     "name": "stderr",
     "output_type": "stream",
     "text": [
      "0% [█] 100% | ETA: 00:00:00\n",
      "Total time elapsed: 00:00:09\n"
     ]
    },
    {
     "name": "stdout",
     "output_type": "stream",
     "text": [
      "Finished Epoch 8 || Run Time:   14.2 | Load Time:    0.0 || F1:  92.49 | Prec:  94.12 | Rec:  90.91 || Ex/s:  15.42\n",
      "\n",
      "===>  EVAL Epoch 8 :\n",
      "Finished Epoch 8 || Run Time:    0.6 | Load Time:    0.0 || F1:  64.52 | Prec:  55.56 | Rec:  76.92 || Ex/s:  50.16\n",
      "\n",
      "===>  TRAIN Epoch 9 :\n"
     ]
    },
    {
     "name": "stderr",
     "output_type": "stream",
     "text": [
      "0% [█] 100% | ETA: 00:00:00\n",
      "Total time elapsed: 00:00:09\n"
     ]
    },
    {
     "name": "stdout",
     "output_type": "stream",
     "text": [
      "Finished Epoch 9 || Run Time:   14.2 | Load Time:    0.0 || F1:  95.45 | Prec:  95.45 | Rec:  95.45 || Ex/s:  15.46\n",
      "\n",
      "===>  EVAL Epoch 9 :\n",
      "Finished Epoch 9 || Run Time:    0.6 | Load Time:    0.0 || F1:  62.07 | Prec:  56.25 | Rec:  69.23 || Ex/s:  50.29\n",
      "\n",
      "===>  TRAIN Epoch 10 :\n"
     ]
    },
    {
     "name": "stderr",
     "output_type": "stream",
     "text": [
      "0% [█] 100% | ETA: 00:00:00\n",
      "Total time elapsed: 00:00:09\n"
     ]
    },
    {
     "name": "stdout",
     "output_type": "stream",
     "text": [
      "Finished Epoch 10 || Run Time:   14.2 | Load Time:    0.0 || F1:  96.00 | Prec:  96.55 | Rec:  95.45 || Ex/s:  15.40\n",
      "\n",
      "===>  EVAL Epoch 10 :\n",
      "Finished Epoch 10 || Run Time:    0.6 | Load Time:    0.0 || F1:  62.07 | Prec:  56.25 | Rec:  69.23 || Ex/s:  50.29\n",
      "\n",
      "===>  TRAIN Epoch 11 :\n"
     ]
    },
    {
     "name": "stderr",
     "output_type": "stream",
     "text": [
      "0% [█] 100% | ETA: 00:00:00\n",
      "Total time elapsed: 00:00:09\n"
     ]
    },
    {
     "name": "stdout",
     "output_type": "stream",
     "text": [
      "Finished Epoch 11 || Run Time:   14.2 | Load Time:    0.0 || F1:  99.43 | Prec: 100.00 | Rec:  98.86 || Ex/s:  15.46\n",
      "\n",
      "===>  EVAL Epoch 11 :\n",
      "Finished Epoch 11 || Run Time:    0.6 | Load Time:    0.0 || F1:  62.07 | Prec:  56.25 | Rec:  69.23 || Ex/s:  50.18\n",
      "\n",
      "===>  TRAIN Epoch 12 :\n"
     ]
    },
    {
     "name": "stderr",
     "output_type": "stream",
     "text": [
      "0% [█] 100% | ETA: 00:00:00\n",
      "Total time elapsed: 00:00:09\n"
     ]
    },
    {
     "name": "stdout",
     "output_type": "stream",
     "text": [
      "Finished Epoch 12 || Run Time:   14.8 | Load Time:    0.0 || F1:  99.43 | Prec: 100.00 | Rec:  98.86 || Ex/s:  14.84\n",
      "\n",
      "===>  EVAL Epoch 12 :\n",
      "Finished Epoch 12 || Run Time:    0.6 | Load Time:    0.0 || F1:  62.07 | Prec:  56.25 | Rec:  69.23 || Ex/s:  46.85\n",
      "\n",
      "===>  TRAIN Epoch 13 :\n"
     ]
    },
    {
     "name": "stderr",
     "output_type": "stream",
     "text": [
      "0% [█] 100% | ETA: 00:00:00\n",
      "Total time elapsed: 00:00:09\n"
     ]
    },
    {
     "name": "stdout",
     "output_type": "stream",
     "text": [
      "Finished Epoch 13 || Run Time:   15.0 | Load Time:    0.0 || F1:  99.43 | Prec: 100.00 | Rec:  98.86 || Ex/s:  14.67\n",
      "\n",
      "===>  EVAL Epoch 13 :\n",
      "Finished Epoch 13 || Run Time:    0.6 | Load Time:    0.0 || F1:  62.07 | Prec:  56.25 | Rec:  69.23 || Ex/s:  47.99\n",
      "\n",
      "===>  TRAIN Epoch 14 :\n"
     ]
    },
    {
     "name": "stderr",
     "output_type": "stream",
     "text": [
      "0% [█] 100% | ETA: 00:00:00\n",
      "Total time elapsed: 00:00:09\n"
     ]
    },
    {
     "name": "stdout",
     "output_type": "stream",
     "text": [
      "Finished Epoch 14 || Run Time:   15.1 | Load Time:    0.0 || F1:  99.43 | Prec: 100.00 | Rec:  98.86 || Ex/s:  14.55\n",
      "\n",
      "===>  EVAL Epoch 14 :\n",
      "Finished Epoch 14 || Run Time:    0.7 | Load Time:    0.0 || F1:  60.00 | Prec:  52.94 | Rec:  69.23 || Ex/s:  43.65\n",
      "\n",
      "===>  TRAIN Epoch 15 :\n"
     ]
    },
    {
     "name": "stderr",
     "output_type": "stream",
     "text": [
      "0% [█] 100% | ETA: 00:00:00\n",
      "Total time elapsed: 00:00:09\n"
     ]
    },
    {
     "name": "stdout",
     "output_type": "stream",
     "text": [
      "Finished Epoch 15 || Run Time:   15.9 | Load Time:    0.0 || F1:  99.43 | Prec: 100.00 | Rec:  98.86 || Ex/s:  13.82\n",
      "\n",
      "===>  EVAL Epoch 15 :\n",
      "Finished Epoch 15 || Run Time:    0.8 | Load Time:    0.0 || F1:  60.00 | Prec:  52.94 | Rec:  69.23 || Ex/s:  38.63\n",
      "\n",
      "===>  TRAIN Epoch 16 :\n"
     ]
    },
    {
     "name": "stderr",
     "output_type": "stream",
     "text": [
      "0% [█] 100% | ETA: 00:00:00\n",
      "Total time elapsed: 00:00:10\n"
     ]
    },
    {
     "name": "stdout",
     "output_type": "stream",
     "text": [
      "Finished Epoch 16 || Run Time:   15.7 | Load Time:    0.0 || F1:  99.43 | Prec: 100.00 | Rec:  98.86 || Ex/s:  13.98\n",
      "\n",
      "===>  EVAL Epoch 16 :\n",
      "Finished Epoch 16 || Run Time:    0.6 | Load Time:    0.0 || F1:  60.00 | Prec:  52.94 | Rec:  69.23 || Ex/s:  48.34\n",
      "\n",
      "===>  TRAIN Epoch 17 :\n"
     ]
    },
    {
     "name": "stderr",
     "output_type": "stream",
     "text": [
      "0% [█] 100% | ETA: 00:00:00\n",
      "Total time elapsed: 00:00:10\n"
     ]
    },
    {
     "name": "stdout",
     "output_type": "stream",
     "text": [
      "Finished Epoch 17 || Run Time:   15.1 | Load Time:    0.0 || F1:  99.43 | Prec: 100.00 | Rec:  98.86 || Ex/s:  14.50\n",
      "\n",
      "===>  EVAL Epoch 17 :\n",
      "Finished Epoch 17 || Run Time:    0.6 | Load Time:    0.0 || F1:  60.00 | Prec:  52.94 | Rec:  69.23 || Ex/s:  50.29\n",
      "\n",
      "===>  TRAIN Epoch 18 :\n"
     ]
    },
    {
     "name": "stderr",
     "output_type": "stream",
     "text": [
      "0% [█] 100% | ETA: 00:00:00\n",
      "Total time elapsed: 00:00:09\n"
     ]
    },
    {
     "name": "stdout",
     "output_type": "stream",
     "text": [
      "Finished Epoch 18 || Run Time:   15.3 | Load Time:    0.0 || F1: 100.00 | Prec: 100.00 | Rec: 100.00 || Ex/s:  14.34\n",
      "\n",
      "===>  EVAL Epoch 18 :\n",
      "Finished Epoch 18 || Run Time:    0.6 | Load Time:    0.0 || F1:  60.00 | Prec:  52.94 | Rec:  69.23 || Ex/s:  47.08\n",
      "\n",
      "===>  TRAIN Epoch 19 :\n"
     ]
    },
    {
     "name": "stderr",
     "output_type": "stream",
     "text": [
      "0% [█] 100% | ETA: 00:00:00\n",
      "Total time elapsed: 00:00:09\n"
     ]
    },
    {
     "name": "stdout",
     "output_type": "stream",
     "text": [
      "Finished Epoch 19 || Run Time:   14.7 | Load Time:    0.0 || F1: 100.00 | Prec: 100.00 | Rec: 100.00 || Ex/s:  14.97\n",
      "\n",
      "===>  EVAL Epoch 19 :\n",
      "Finished Epoch 19 || Run Time:    0.6 | Load Time:    0.0 || F1:  60.00 | Prec:  52.94 | Rec:  69.23 || Ex/s:  49.38\n",
      "\n",
      "===>  TRAIN Epoch 20 :\n"
     ]
    },
    {
     "name": "stderr",
     "output_type": "stream",
     "text": [
      "0% [█] 100% | ETA: 00:00:00\n",
      "Total time elapsed: 00:00:09\n"
     ]
    },
    {
     "name": "stdout",
     "output_type": "stream",
     "text": [
      "Finished Epoch 20 || Run Time:   14.4 | Load Time:    0.0 || F1: 100.00 | Prec: 100.00 | Rec: 100.00 || Ex/s:  15.25\n",
      "\n",
      "===>  EVAL Epoch 20 :\n",
      "Finished Epoch 20 || Run Time:    0.6 | Load Time:    0.0 || F1:  60.00 | Prec:  52.94 | Rec:  69.23 || Ex/s:  48.30\n",
      "\n",
      "===>  TRAIN Epoch 21 :\n"
     ]
    },
    {
     "name": "stderr",
     "output_type": "stream",
     "text": [
      "0% [█] 100% | ETA: 00:00:00\n",
      "Total time elapsed: 00:00:09\n"
     ]
    },
    {
     "name": "stdout",
     "output_type": "stream",
     "text": [
      "Finished Epoch 21 || Run Time:   14.9 | Load Time:    0.0 || F1: 100.00 | Prec: 100.00 | Rec: 100.00 || Ex/s:  14.71\n",
      "\n",
      "===>  EVAL Epoch 21 :\n",
      "Finished Epoch 21 || Run Time:    0.6 | Load Time:    0.0 || F1:  60.00 | Prec:  52.94 | Rec:  69.23 || Ex/s:  45.93\n",
      "\n",
      "===>  TRAIN Epoch 22 :\n"
     ]
    },
    {
     "name": "stderr",
     "output_type": "stream",
     "text": [
      "0% [█] 100% | ETA: 00:00:00\n",
      "Total time elapsed: 00:00:09\n"
     ]
    },
    {
     "name": "stdout",
     "output_type": "stream",
     "text": [
      "Finished Epoch 22 || Run Time:   14.5 | Load Time:    0.0 || F1: 100.00 | Prec: 100.00 | Rec: 100.00 || Ex/s:  15.17\n",
      "\n",
      "===>  EVAL Epoch 22 :\n",
      "Finished Epoch 22 || Run Time:    0.6 | Load Time:    0.0 || F1:  60.00 | Prec:  52.94 | Rec:  69.23 || Ex/s:  50.07\n",
      "\n",
      "===>  TRAIN Epoch 23 :\n"
     ]
    },
    {
     "name": "stderr",
     "output_type": "stream",
     "text": [
      "0% [█] 100% | ETA: 00:00:00\n",
      "Total time elapsed: 00:00:09\n"
     ]
    },
    {
     "name": "stdout",
     "output_type": "stream",
     "text": [
      "Finished Epoch 23 || Run Time:   14.6 | Load Time:    0.0 || F1: 100.00 | Prec: 100.00 | Rec: 100.00 || Ex/s:  15.03\n",
      "\n",
      "===>  EVAL Epoch 23 :\n",
      "Finished Epoch 23 || Run Time:    0.6 | Load Time:    0.0 || F1:  60.00 | Prec:  52.94 | Rec:  69.23 || Ex/s:  46.51\n",
      "\n",
      "===>  TRAIN Epoch 24 :\n"
     ]
    },
    {
     "name": "stderr",
     "output_type": "stream",
     "text": [
      "0% [█] 100% | ETA: 00:00:00\n",
      "Total time elapsed: 00:00:09\n"
     ]
    },
    {
     "name": "stdout",
     "output_type": "stream",
     "text": [
      "Finished Epoch 24 || Run Time:   15.1 | Load Time:    0.0 || F1: 100.00 | Prec: 100.00 | Rec: 100.00 || Ex/s:  14.57\n",
      "\n",
      "===>  EVAL Epoch 24 :\n",
      "Finished Epoch 24 || Run Time:    0.6 | Load Time:    0.0 || F1:  60.00 | Prec:  52.94 | Rec:  69.23 || Ex/s:  47.07\n",
      "\n",
      "===>  TRAIN Epoch 25 :\n"
     ]
    },
    {
     "name": "stderr",
     "output_type": "stream",
     "text": [
      "0% [█] 100% | ETA: 00:00:00\n",
      "Total time elapsed: 00:00:10\n"
     ]
    },
    {
     "name": "stdout",
     "output_type": "stream",
     "text": [
      "Finished Epoch 25 || Run Time:   15.8 | Load Time:    0.0 || F1: 100.00 | Prec: 100.00 | Rec: 100.00 || Ex/s:  13.86\n",
      "\n",
      "===>  EVAL Epoch 25 :\n",
      "Finished Epoch 25 || Run Time:    0.6 | Load Time:    0.0 || F1:  60.00 | Prec:  52.94 | Rec:  69.23 || Ex/s:  48.76\n",
      "\n",
      "===>  TRAIN Epoch 26 :\n"
     ]
    },
    {
     "name": "stderr",
     "output_type": "stream",
     "text": [
      "0% [█] 100% | ETA: 00:00:00\n",
      "Total time elapsed: 00:00:09\n"
     ]
    },
    {
     "name": "stdout",
     "output_type": "stream",
     "text": [
      "Finished Epoch 26 || Run Time:   14.5 | Load Time:    0.0 || F1: 100.00 | Prec: 100.00 | Rec: 100.00 || Ex/s:  15.17\n",
      "\n",
      "===>  EVAL Epoch 26 :\n",
      "Finished Epoch 26 || Run Time:    0.6 | Load Time:    0.0 || F1:  60.00 | Prec:  52.94 | Rec:  69.23 || Ex/s:  48.91\n",
      "\n",
      "===>  TRAIN Epoch 27 :\n"
     ]
    },
    {
     "name": "stderr",
     "output_type": "stream",
     "text": [
      "0% [█] 100% | ETA: 00:00:00\n",
      "Total time elapsed: 00:00:09\n"
     ]
    },
    {
     "name": "stdout",
     "output_type": "stream",
     "text": [
      "Finished Epoch 27 || Run Time:   14.4 | Load Time:    0.0 || F1: 100.00 | Prec: 100.00 | Rec: 100.00 || Ex/s:  15.22\n",
      "\n",
      "===>  EVAL Epoch 27 :\n",
      "Finished Epoch 27 || Run Time:    0.6 | Load Time:    0.0 || F1:  60.00 | Prec:  52.94 | Rec:  69.23 || Ex/s:  48.72\n",
      "\n",
      "===>  TRAIN Epoch 28 :\n"
     ]
    },
    {
     "name": "stderr",
     "output_type": "stream",
     "text": [
      "0% [█] 100% | ETA: 00:00:00\n",
      "Total time elapsed: 00:00:09\n"
     ]
    },
    {
     "name": "stdout",
     "output_type": "stream",
     "text": [
      "Finished Epoch 28 || Run Time:   14.4 | Load Time:    0.0 || F1: 100.00 | Prec: 100.00 | Rec: 100.00 || Ex/s:  15.23\n",
      "\n",
      "===>  EVAL Epoch 28 :\n",
      "Finished Epoch 28 || Run Time:    0.6 | Load Time:    0.0 || F1:  60.00 | Prec:  52.94 | Rec:  69.23 || Ex/s:  49.14\n",
      "\n",
      "===>  TRAIN Epoch 29 :\n"
     ]
    },
    {
     "name": "stderr",
     "output_type": "stream",
     "text": [
      "0% [█] 100% | ETA: 00:00:00\n",
      "Total time elapsed: 00:00:09\n"
     ]
    },
    {
     "name": "stdout",
     "output_type": "stream",
     "text": [
      "Finished Epoch 29 || Run Time:   14.4 | Load Time:    0.0 || F1: 100.00 | Prec: 100.00 | Rec: 100.00 || Ex/s:  15.23\n",
      "\n",
      "===>  EVAL Epoch 29 :\n",
      "Finished Epoch 29 || Run Time:    0.6 | Load Time:    0.0 || F1:  60.00 | Prec:  52.94 | Rec:  69.23 || Ex/s:  49.01\n",
      "\n",
      "===>  TRAIN Epoch 30 :\n"
     ]
    },
    {
     "name": "stderr",
     "output_type": "stream",
     "text": [
      "0% [█] 100% | ETA: 00:00:00\n",
      "Total time elapsed: 00:00:09\n"
     ]
    },
    {
     "name": "stdout",
     "output_type": "stream",
     "text": [
      "Finished Epoch 30 || Run Time:   14.5 | Load Time:    0.0 || F1: 100.00 | Prec: 100.00 | Rec: 100.00 || Ex/s:  15.16\n",
      "\n",
      "===>  EVAL Epoch 30 :\n",
      "Finished Epoch 30 || Run Time:    0.6 | Load Time:    0.0 || F1:  60.00 | Prec:  52.94 | Rec:  69.23 || Ex/s:  46.77\n",
      "\n",
      "Loading best model...\n"
     ]
    }
   ],
   "source": [
    "model1.run_train(train, validation, best_save_path='hybrid_model1.pth')"
   ]
  },
  {
   "cell_type": "code",
   "execution_count": 19,
   "metadata": {},
   "outputs": [
    {
     "name": "stdout",
     "output_type": "stream",
     "text": [
      "===>  EVAL Epoch 7 :\n"
     ]
    },
    {
     "name": "stderr",
     "output_type": "stream",
     "text": [
      "0% [█] 100% | ETA: 00:00:00\n",
      "Total time elapsed: 00:00:03\n"
     ]
    },
    {
     "name": "stdout",
     "output_type": "stream",
     "text": [
      "Finished Epoch 7 || Run Time:    4.6 | Load Time:    0.1 || F1:  92.22 | Prec:  90.22 | Rec:  94.32 || Ex/s:  47.24\n",
      "\n"
     ]
    },
    {
     "data": {
      "text/plain": [
       "92.22222222222223"
      ]
     },
     "execution_count": 19,
     "metadata": {},
     "output_type": "execute_result"
    }
   ],
   "source": [
    "model1.run_eval(train)"
   ]
  },
  {
   "cell_type": "code",
   "execution_count": 20,
   "metadata": {},
   "outputs": [
    {
     "name": "stdout",
     "output_type": "stream",
     "text": [
      "===>  EVAL Epoch 7 :\n",
      "Finished Epoch 7 || Run Time:    0.7 | Load Time:    0.0 || F1:  70.97 | Prec:  61.11 | Rec:  84.62 || Ex/s:  43.98\n",
      "\n"
     ]
    },
    {
     "data": {
      "text/plain": [
       "70.96774193548387"
      ]
     },
     "execution_count": 20,
     "metadata": {},
     "output_type": "execute_result"
    }
   ],
   "source": [
    "model1.run_eval(validation)"
   ]
  },
  {
   "cell_type": "code",
   "execution_count": 21,
   "metadata": {},
   "outputs": [],
   "source": [
    "model2 = dm.MatchingModel(\n",
    "    attr_summarizer=dm.attr_summarizers.Hybrid(\n",
    "        word_contextualizer='self-attention',\n",
    "        word_comparator='bilinear-attention',\n",
    "        word_aggregator='inv-freq-avg-pool'))\n",
    "model2.initialize(train)"
   ]
  },
  {
   "cell_type": "code",
   "execution_count": 22,
   "metadata": {},
   "outputs": [
    {
     "name": "stdout",
     "output_type": "stream",
     "text": [
      "* Number of trainable parameters: 11973802\n",
      "===>  TRAIN Epoch 1 :\n"
     ]
    },
    {
     "name": "stderr",
     "output_type": "stream",
     "text": [
      "0% [█] 100% | ETA: 00:00:00\n",
      "Total time elapsed: 00:00:06\n"
     ]
    },
    {
     "name": "stdout",
     "output_type": "stream",
     "text": [
      "Finished Epoch 1 || Run Time:   10.3 | Load Time:    0.0 || F1:  14.04 | Prec:  30.77 | Rec:   9.09 || Ex/s:  21.28\n",
      "\n",
      "===>  EVAL Epoch 1 :\n",
      "Finished Epoch 1 || Run Time:    0.4 | Load Time:    0.0 || F1:   0.00 | Prec:   0.00 | Rec:   0.00 || Ex/s:  69.28\n",
      "\n",
      "* Best F1: 0.0\n",
      "Saving best model...\n",
      "===>  TRAIN Epoch 2 :\n"
     ]
    },
    {
     "name": "stderr",
     "output_type": "stream",
     "text": [
      "0% [█] 100% | ETA: 00:00:00\n",
      "Total time elapsed: 00:00:06\n"
     ]
    },
    {
     "name": "stdout",
     "output_type": "stream",
     "text": [
      "Finished Epoch 2 || Run Time:    9.9 | Load Time:    0.0 || F1:   0.00 | Prec:   0.00 | Rec:   0.00 || Ex/s:  22.05\n",
      "\n",
      "===>  EVAL Epoch 2 :\n",
      "Finished Epoch 2 || Run Time:    0.4 | Load Time:    0.0 || F1:   0.00 | Prec:   0.00 | Rec:   0.00 || Ex/s:  69.10\n",
      "\n",
      "===>  TRAIN Epoch 3 :\n"
     ]
    },
    {
     "name": "stderr",
     "output_type": "stream",
     "text": [
      "0% [█] 100% | ETA: 00:00:00\n",
      "Total time elapsed: 00:00:06\n"
     ]
    },
    {
     "name": "stdout",
     "output_type": "stream",
     "text": [
      "Finished Epoch 3 || Run Time:    9.9 | Load Time:    0.0 || F1:  40.00 | Prec: 100.00 | Rec:  25.00 || Ex/s:  22.11\n",
      "\n",
      "===>  EVAL Epoch 3 :\n",
      "Finished Epoch 3 || Run Time:    0.4 | Load Time:    0.0 || F1:  60.00 | Prec:  85.71 | Rec:  46.15 || Ex/s:  69.37\n",
      "\n",
      "* Best F1: 60.0\n",
      "Saving best model...\n",
      "===>  TRAIN Epoch 4 :\n"
     ]
    },
    {
     "name": "stderr",
     "output_type": "stream",
     "text": [
      "0% [█] 100% | ETA: 00:00:00\n",
      "Total time elapsed: 00:00:06\n"
     ]
    },
    {
     "name": "stdout",
     "output_type": "stream",
     "text": [
      "Finished Epoch 4 || Run Time:    9.9 | Load Time:    0.0 || F1:  86.62 | Prec:  98.55 | Rec:  77.27 || Ex/s:  22.03\n",
      "\n",
      "===>  EVAL Epoch 4 :\n",
      "Finished Epoch 4 || Run Time:    0.4 | Load Time:    0.0 || F1:  75.00 | Prec:  81.82 | Rec:  69.23 || Ex/s:  69.29\n",
      "\n",
      "* Best F1: 75.0\n",
      "Saving best model...\n",
      "===>  TRAIN Epoch 5 :\n"
     ]
    },
    {
     "name": "stderr",
     "output_type": "stream",
     "text": [
      "0% [█] 100% | ETA: 00:00:00\n",
      "Total time elapsed: 00:00:06\n"
     ]
    },
    {
     "name": "stdout",
     "output_type": "stream",
     "text": [
      "Finished Epoch 5 || Run Time:   10.1 | Load Time:    0.0 || F1:  92.22 | Prec:  97.47 | Rec:  87.50 || Ex/s:  21.58\n",
      "\n",
      "===>  EVAL Epoch 5 :\n",
      "Finished Epoch 5 || Run Time:    0.4 | Load Time:    0.0 || F1:  81.48 | Prec:  78.57 | Rec:  84.62 || Ex/s:  69.90\n",
      "\n",
      "* Best F1: 81.48148148148147\n",
      "Saving best model...\n",
      "===>  TRAIN Epoch 6 :\n"
     ]
    },
    {
     "name": "stderr",
     "output_type": "stream",
     "text": [
      "0% [█] 100% | ETA: 00:00:00\n",
      "Total time elapsed: 00:00:06\n"
     ]
    },
    {
     "name": "stdout",
     "output_type": "stream",
     "text": [
      "Finished Epoch 6 || Run Time:   10.0 | Load Time:    0.0 || F1:  92.86 | Prec:  97.50 | Rec:  88.64 || Ex/s:  21.97\n",
      "\n",
      "===>  EVAL Epoch 6 :\n",
      "Finished Epoch 6 || Run Time:    0.4 | Load Time:    0.0 || F1:  81.48 | Prec:  78.57 | Rec:  84.62 || Ex/s:  69.30\n",
      "\n",
      "===>  TRAIN Epoch 7 :\n"
     ]
    },
    {
     "name": "stderr",
     "output_type": "stream",
     "text": [
      "0% [█] 100% | ETA: 00:00:00\n",
      "Total time elapsed: 00:00:06\n"
     ]
    },
    {
     "name": "stdout",
     "output_type": "stream",
     "text": [
      "Finished Epoch 7 || Run Time:    9.9 | Load Time:    0.0 || F1:  93.49 | Prec:  97.53 | Rec:  89.77 || Ex/s:  22.12\n",
      "\n",
      "===>  EVAL Epoch 7 :\n",
      "Finished Epoch 7 || Run Time:    0.4 | Load Time:    0.0 || F1:  81.48 | Prec:  78.57 | Rec:  84.62 || Ex/s:  68.48\n",
      "\n",
      "===>  TRAIN Epoch 8 :\n"
     ]
    },
    {
     "name": "stderr",
     "output_type": "stream",
     "text": [
      "0% [█] 100% | ETA: 00:00:00\n",
      "Total time elapsed: 00:00:06\n"
     ]
    },
    {
     "name": "stdout",
     "output_type": "stream",
     "text": [
      "Finished Epoch 8 || Run Time:    9.9 | Load Time:    0.0 || F1:  93.49 | Prec:  97.53 | Rec:  89.77 || Ex/s:  22.18\n",
      "\n",
      "===>  EVAL Epoch 8 :\n",
      "Finished Epoch 8 || Run Time:    0.4 | Load Time:    0.0 || F1:  78.57 | Prec:  73.33 | Rec:  84.62 || Ex/s:  69.84\n",
      "\n",
      "===>  TRAIN Epoch 9 :\n"
     ]
    },
    {
     "name": "stderr",
     "output_type": "stream",
     "text": [
      "0% [█] 100% | ETA: 00:00:00\n",
      "Total time elapsed: 00:00:06\n"
     ]
    },
    {
     "name": "stdout",
     "output_type": "stream",
     "text": [
      "Finished Epoch 9 || Run Time:    9.9 | Load Time:    0.0 || F1:  95.91 | Prec:  98.80 | Rec:  93.18 || Ex/s:  22.13\n",
      "\n",
      "===>  EVAL Epoch 9 :\n",
      "Finished Epoch 9 || Run Time:    0.4 | Load Time:    0.0 || F1:  78.57 | Prec:  73.33 | Rec:  84.62 || Ex/s:  68.86\n",
      "\n",
      "===>  TRAIN Epoch 10 :\n"
     ]
    },
    {
     "name": "stderr",
     "output_type": "stream",
     "text": [
      "0% [█] 100% | ETA: 00:00:00\n",
      "Total time elapsed: 00:00:06\n"
     ]
    },
    {
     "name": "stdout",
     "output_type": "stream",
     "text": [
      "Finished Epoch 10 || Run Time:    9.9 | Load Time:    0.0 || F1:  97.11 | Prec:  98.82 | Rec:  95.45 || Ex/s:  22.17\n",
      "\n",
      "===>  EVAL Epoch 10 :\n",
      "Finished Epoch 10 || Run Time:    0.4 | Load Time:    0.0 || F1:  78.57 | Prec:  73.33 | Rec:  84.62 || Ex/s:  69.44\n",
      "\n",
      "===>  TRAIN Epoch 11 :\n"
     ]
    },
    {
     "name": "stderr",
     "output_type": "stream",
     "text": [
      "0% [█] 100% | ETA: 00:00:00\n",
      "Total time elapsed: 00:00:06\n"
     ]
    },
    {
     "name": "stdout",
     "output_type": "stream",
     "text": [
      "Finished Epoch 11 || Run Time:   10.0 | Load Time:    0.0 || F1:  98.27 | Prec: 100.00 | Rec:  96.59 || Ex/s:  21.97\n",
      "\n",
      "===>  EVAL Epoch 11 :\n",
      "Finished Epoch 11 || Run Time:    0.4 | Load Time:    0.0 || F1:  81.48 | Prec:  78.57 | Rec:  84.62 || Ex/s:  70.07\n",
      "\n",
      "===>  TRAIN Epoch 12 :\n"
     ]
    },
    {
     "name": "stderr",
     "output_type": "stream",
     "text": [
      "0% [█] 100% | ETA: 00:00:00\n",
      "Total time elapsed: 00:00:06\n"
     ]
    },
    {
     "name": "stdout",
     "output_type": "stream",
     "text": [
      "Finished Epoch 12 || Run Time:   10.2 | Load Time:    0.0 || F1:  98.85 | Prec: 100.00 | Rec:  97.73 || Ex/s:  21.44\n",
      "\n",
      "===>  EVAL Epoch 12 :\n",
      "Finished Epoch 12 || Run Time:    0.4 | Load Time:    0.0 || F1:  81.48 | Prec:  78.57 | Rec:  84.62 || Ex/s:  65.64\n",
      "\n",
      "===>  TRAIN Epoch 13 :\n"
     ]
    },
    {
     "name": "stderr",
     "output_type": "stream",
     "text": [
      "0% [█] 100% | ETA: 00:00:00\n",
      "Total time elapsed: 00:00:06\n"
     ]
    },
    {
     "name": "stdout",
     "output_type": "stream",
     "text": [
      "Finished Epoch 13 || Run Time:   10.3 | Load Time:    0.0 || F1:  99.43 | Prec: 100.00 | Rec:  98.86 || Ex/s:  21.32\n",
      "\n",
      "===>  EVAL Epoch 13 :\n",
      "Finished Epoch 13 || Run Time:    0.4 | Load Time:    0.0 || F1:  81.48 | Prec:  78.57 | Rec:  84.62 || Ex/s:  66.50\n",
      "\n",
      "===>  TRAIN Epoch 14 :\n"
     ]
    },
    {
     "name": "stderr",
     "output_type": "stream",
     "text": [
      "0% [█] 100% | ETA: 00:00:00\n",
      "Total time elapsed: 00:00:06\n"
     ]
    },
    {
     "name": "stdout",
     "output_type": "stream",
     "text": [
      "Finished Epoch 14 || Run Time:   10.8 | Load Time:    0.1 || F1:  99.43 | Prec: 100.00 | Rec:  98.86 || Ex/s:  20.32\n",
      "\n",
      "===>  EVAL Epoch 14 :\n",
      "Finished Epoch 14 || Run Time:    0.4 | Load Time:    0.0 || F1:  84.62 | Prec:  84.62 | Rec:  84.62 || Ex/s:  66.66\n",
      "\n",
      "* Best F1: 84.61538461538461\n",
      "Saving best model...\n",
      "===>  TRAIN Epoch 15 :\n"
     ]
    },
    {
     "name": "stderr",
     "output_type": "stream",
     "text": [
      "0% [█] 100% | ETA: 00:00:00\n",
      "Total time elapsed: 00:00:07\n"
     ]
    },
    {
     "name": "stdout",
     "output_type": "stream",
     "text": [
      "Finished Epoch 15 || Run Time:   10.6 | Load Time:    0.0 || F1: 100.00 | Prec: 100.00 | Rec: 100.00 || Ex/s:  20.60\n",
      "\n",
      "===>  EVAL Epoch 15 :\n",
      "Finished Epoch 15 || Run Time:    0.4 | Load Time:    0.0 || F1:  84.62 | Prec:  84.62 | Rec:  84.62 || Ex/s:  67.56\n",
      "\n",
      "===>  TRAIN Epoch 16 :\n"
     ]
    },
    {
     "name": "stderr",
     "output_type": "stream",
     "text": [
      "0% [█] 100% | ETA: 00:00:00\n",
      "Total time elapsed: 00:00:06\n"
     ]
    },
    {
     "name": "stdout",
     "output_type": "stream",
     "text": [
      "Finished Epoch 16 || Run Time:   10.1 | Load Time:    0.0 || F1: 100.00 | Prec: 100.00 | Rec: 100.00 || Ex/s:  21.74\n",
      "\n",
      "===>  EVAL Epoch 16 :\n",
      "Finished Epoch 16 || Run Time:    0.4 | Load Time:    0.0 || F1:  84.62 | Prec:  84.62 | Rec:  84.62 || Ex/s:  70.72\n",
      "\n",
      "===>  TRAIN Epoch 17 :\n"
     ]
    },
    {
     "name": "stderr",
     "output_type": "stream",
     "text": [
      "0% [█] 100% | ETA: 00:00:00\n",
      "Total time elapsed: 00:00:07\n"
     ]
    },
    {
     "name": "stdout",
     "output_type": "stream",
     "text": [
      "Finished Epoch 17 || Run Time:   10.8 | Load Time:    0.0 || F1: 100.00 | Prec: 100.00 | Rec: 100.00 || Ex/s:  20.29\n",
      "\n",
      "===>  EVAL Epoch 17 :\n",
      "Finished Epoch 17 || Run Time:    0.5 | Load Time:    0.0 || F1:  84.62 | Prec:  84.62 | Rec:  84.62 || Ex/s:  63.47\n",
      "\n",
      "===>  TRAIN Epoch 18 :\n"
     ]
    },
    {
     "name": "stderr",
     "output_type": "stream",
     "text": [
      "0% [█] 100% | ETA: 00:00:00\n",
      "Total time elapsed: 00:00:07\n"
     ]
    },
    {
     "name": "stdout",
     "output_type": "stream",
     "text": [
      "Finished Epoch 18 || Run Time:   11.0 | Load Time:    0.0 || F1: 100.00 | Prec: 100.00 | Rec: 100.00 || Ex/s:  19.97\n",
      "\n",
      "===>  EVAL Epoch 18 :\n",
      "Finished Epoch 18 || Run Time:    0.4 | Load Time:    0.0 || F1:  84.62 | Prec:  84.62 | Rec:  84.62 || Ex/s:  67.19\n",
      "\n",
      "===>  TRAIN Epoch 19 :\n"
     ]
    },
    {
     "name": "stderr",
     "output_type": "stream",
     "text": [
      "0% [█] 100% | ETA: 00:00:00\n",
      "Total time elapsed: 00:00:07\n"
     ]
    },
    {
     "name": "stdout",
     "output_type": "stream",
     "text": [
      "Finished Epoch 19 || Run Time:   11.2 | Load Time:    0.0 || F1: 100.00 | Prec: 100.00 | Rec: 100.00 || Ex/s:  19.63\n",
      "\n",
      "===>  EVAL Epoch 19 :\n",
      "Finished Epoch 19 || Run Time:    0.5 | Load Time:    0.0 || F1:  84.62 | Prec:  84.62 | Rec:  84.62 || Ex/s:  62.08\n",
      "\n",
      "===>  TRAIN Epoch 20 :\n"
     ]
    },
    {
     "name": "stderr",
     "output_type": "stream",
     "text": [
      "0% [█] 100% | ETA: 00:00:00\n",
      "Total time elapsed: 00:00:07\n"
     ]
    },
    {
     "name": "stdout",
     "output_type": "stream",
     "text": [
      "Finished Epoch 20 || Run Time:   11.2 | Load Time:    0.0 || F1: 100.00 | Prec: 100.00 | Rec: 100.00 || Ex/s:  19.50\n",
      "\n",
      "===>  EVAL Epoch 20 :\n",
      "Finished Epoch 20 || Run Time:    0.5 | Load Time:    0.0 || F1:  84.62 | Prec:  84.62 | Rec:  84.62 || Ex/s:  58.56\n",
      "\n",
      "===>  TRAIN Epoch 21 :\n"
     ]
    },
    {
     "name": "stderr",
     "output_type": "stream",
     "text": [
      "0% [█] 100% | ETA: 00:00:00\n",
      "Total time elapsed: 00:00:07\n"
     ]
    },
    {
     "name": "stdout",
     "output_type": "stream",
     "text": [
      "Finished Epoch 21 || Run Time:   10.5 | Load Time:    0.0 || F1: 100.00 | Prec: 100.00 | Rec: 100.00 || Ex/s:  20.91\n",
      "\n",
      "===>  EVAL Epoch 21 :\n",
      "Finished Epoch 21 || Run Time:    0.4 | Load Time:    0.0 || F1:  84.62 | Prec:  84.62 | Rec:  84.62 || Ex/s:  69.85\n",
      "\n",
      "===>  TRAIN Epoch 22 :\n"
     ]
    },
    {
     "name": "stderr",
     "output_type": "stream",
     "text": [
      "0% [█] 100% | ETA: 00:00:00\n",
      "Total time elapsed: 00:00:06\n"
     ]
    },
    {
     "name": "stdout",
     "output_type": "stream",
     "text": [
      "Finished Epoch 22 || Run Time:    9.9 | Load Time:    0.0 || F1: 100.00 | Prec: 100.00 | Rec: 100.00 || Ex/s:  22.16\n",
      "\n",
      "===>  EVAL Epoch 22 :\n",
      "Finished Epoch 22 || Run Time:    0.4 | Load Time:    0.0 || F1:  84.62 | Prec:  84.62 | Rec:  84.62 || Ex/s:  69.39\n",
      "\n",
      "===>  TRAIN Epoch 23 :\n"
     ]
    },
    {
     "name": "stderr",
     "output_type": "stream",
     "text": [
      "0% [█] 100% | ETA: 00:00:00\n",
      "Total time elapsed: 00:00:06\n"
     ]
    },
    {
     "name": "stdout",
     "output_type": "stream",
     "text": [
      "Finished Epoch 23 || Run Time:    9.9 | Load Time:    0.0 || F1: 100.00 | Prec: 100.00 | Rec: 100.00 || Ex/s:  22.15\n",
      "\n",
      "===>  EVAL Epoch 23 :\n",
      "Finished Epoch 23 || Run Time:    0.4 | Load Time:    0.0 || F1:  84.62 | Prec:  84.62 | Rec:  84.62 || Ex/s:  69.91\n",
      "\n",
      "===>  TRAIN Epoch 24 :\n"
     ]
    },
    {
     "name": "stderr",
     "output_type": "stream",
     "text": [
      "0% [█] 100% | ETA: 00:00:00\n",
      "Total time elapsed: 00:00:06\n"
     ]
    },
    {
     "name": "stdout",
     "output_type": "stream",
     "text": [
      "Finished Epoch 24 || Run Time:    9.9 | Load Time:    0.0 || F1: 100.00 | Prec: 100.00 | Rec: 100.00 || Ex/s:  22.12\n",
      "\n",
      "===>  EVAL Epoch 24 :\n",
      "Finished Epoch 24 || Run Time:    0.4 | Load Time:    0.0 || F1:  84.62 | Prec:  84.62 | Rec:  84.62 || Ex/s:  69.57\n",
      "\n",
      "===>  TRAIN Epoch 25 :\n"
     ]
    },
    {
     "name": "stderr",
     "output_type": "stream",
     "text": [
      "0% [█] 100% | ETA: 00:00:00\n",
      "Total time elapsed: 00:00:06\n"
     ]
    },
    {
     "name": "stdout",
     "output_type": "stream",
     "text": [
      "Finished Epoch 25 || Run Time:    9.9 | Load Time:    0.0 || F1: 100.00 | Prec: 100.00 | Rec: 100.00 || Ex/s:  22.04\n",
      "\n",
      "===>  EVAL Epoch 25 :\n",
      "Finished Epoch 25 || Run Time:    0.4 | Load Time:    0.0 || F1:  84.62 | Prec:  84.62 | Rec:  84.62 || Ex/s:  70.45\n",
      "\n",
      "===>  TRAIN Epoch 26 :\n"
     ]
    },
    {
     "name": "stderr",
     "output_type": "stream",
     "text": [
      "0% [█] 100% | ETA: 00:00:00\n",
      "Total time elapsed: 00:00:06\n"
     ]
    },
    {
     "name": "stdout",
     "output_type": "stream",
     "text": [
      "Finished Epoch 26 || Run Time:    9.9 | Load Time:    0.0 || F1: 100.00 | Prec: 100.00 | Rec: 100.00 || Ex/s:  22.18\n",
      "\n",
      "===>  EVAL Epoch 26 :\n",
      "Finished Epoch 26 || Run Time:    0.4 | Load Time:    0.0 || F1:  84.62 | Prec:  84.62 | Rec:  84.62 || Ex/s:  69.55\n",
      "\n",
      "===>  TRAIN Epoch 27 :\n"
     ]
    },
    {
     "name": "stderr",
     "output_type": "stream",
     "text": [
      "0% [█] 100% | ETA: 00:00:00\n",
      "Total time elapsed: 00:00:06\n"
     ]
    },
    {
     "name": "stdout",
     "output_type": "stream",
     "text": [
      "Finished Epoch 27 || Run Time:    9.9 | Load Time:    0.0 || F1: 100.00 | Prec: 100.00 | Rec: 100.00 || Ex/s:  22.14\n",
      "\n",
      "===>  EVAL Epoch 27 :\n",
      "Finished Epoch 27 || Run Time:    0.4 | Load Time:    0.0 || F1:  84.62 | Prec:  84.62 | Rec:  84.62 || Ex/s:  69.69\n",
      "\n",
      "===>  TRAIN Epoch 28 :\n"
     ]
    },
    {
     "name": "stderr",
     "output_type": "stream",
     "text": [
      "0% [█] 100% | ETA: 00:00:00\n",
      "Total time elapsed: 00:00:06\n"
     ]
    },
    {
     "name": "stdout",
     "output_type": "stream",
     "text": [
      "Finished Epoch 28 || Run Time:   10.4 | Load Time:    0.0 || F1: 100.00 | Prec: 100.00 | Rec: 100.00 || Ex/s:  21.12\n",
      "\n",
      "===>  EVAL Epoch 28 :\n",
      "Finished Epoch 28 || Run Time:    0.4 | Load Time:    0.0 || F1:  84.62 | Prec:  84.62 | Rec:  84.62 || Ex/s:  68.36\n",
      "\n",
      "===>  TRAIN Epoch 29 :\n"
     ]
    },
    {
     "name": "stderr",
     "output_type": "stream",
     "text": [
      "0% [█] 100% | ETA: 00:00:00\n",
      "Total time elapsed: 00:00:07\n"
     ]
    },
    {
     "name": "stdout",
     "output_type": "stream",
     "text": [
      "Finished Epoch 29 || Run Time:   10.4 | Load Time:    0.0 || F1: 100.00 | Prec: 100.00 | Rec: 100.00 || Ex/s:  21.12\n",
      "\n",
      "===>  EVAL Epoch 29 :\n",
      "Finished Epoch 29 || Run Time:    0.4 | Load Time:    0.0 || F1:  84.62 | Prec:  84.62 | Rec:  84.62 || Ex/s:  70.32\n",
      "\n",
      "===>  TRAIN Epoch 30 :\n"
     ]
    },
    {
     "name": "stderr",
     "output_type": "stream",
     "text": [
      "0% [█] 100% | ETA: 00:00:00\n",
      "Total time elapsed: 00:00:06\n"
     ]
    },
    {
     "name": "stdout",
     "output_type": "stream",
     "text": [
      "Finished Epoch 30 || Run Time:    9.8 | Load Time:    0.0 || F1: 100.00 | Prec: 100.00 | Rec: 100.00 || Ex/s:  22.36\n",
      "\n",
      "===>  EVAL Epoch 30 :\n",
      "Finished Epoch 30 || Run Time:    0.4 | Load Time:    0.0 || F1:  84.62 | Prec:  84.62 | Rec:  84.62 || Ex/s:  70.60\n",
      "\n",
      "Loading best model...\n"
     ]
    }
   ],
   "source": [
    "model2.run_train(train, validation, best_save_path='hybrid_model2.pth')"
   ]
  },
  {
   "cell_type": "code",
   "execution_count": 23,
   "metadata": {},
   "outputs": [
    {
     "name": "stdout",
     "output_type": "stream",
     "text": [
      "===>  EVAL Epoch 14 :\n"
     ]
    },
    {
     "name": "stderr",
     "output_type": "stream",
     "text": [
      "0% [█] 100% | ETA: 00:00:00\n",
      "Total time elapsed: 00:00:02\n"
     ]
    },
    {
     "name": "stdout",
     "output_type": "stream",
     "text": [
      "Finished Epoch 14 || Run Time:    3.2 | Load Time:    0.1 || F1:  99.43 | Prec: 100.00 | Rec:  98.86 || Ex/s:  67.22\n",
      "\n"
     ]
    },
    {
     "data": {
      "text/plain": [
       "99.42857142857142"
      ]
     },
     "execution_count": 23,
     "metadata": {},
     "output_type": "execute_result"
    }
   ],
   "source": [
    "model2.run_eval(train)"
   ]
  },
  {
   "cell_type": "code",
   "execution_count": 24,
   "metadata": {},
   "outputs": [
    {
     "name": "stdout",
     "output_type": "stream",
     "text": [
      "===>  EVAL Epoch 14 :\n",
      "Finished Epoch 14 || Run Time:    0.5 | Load Time:    0.0 || F1:  84.62 | Prec:  84.62 | Rec:  84.62 || Ex/s:  60.95\n",
      "\n"
     ]
    },
    {
     "data": {
      "text/plain": [
       "84.61538461538461"
      ]
     },
     "execution_count": 24,
     "metadata": {},
     "output_type": "execute_result"
    }
   ],
   "source": [
    "model2.run_eval(validation)"
   ]
  },
  {
   "cell_type": "code",
   "execution_count": 27,
   "metadata": {},
   "outputs": [],
   "source": [
    "model3 = dm.MatchingModel(attr_summarizer=dm.attr_summarizers.Hybrid(\n",
    "    word_comparator=lambda: dm.modules.MultiSequential(\n",
    "        dm.word_comparators.Attention(),\n",
    "        dm.modules.RNN(unit_type='gru', layers=2))))\n",
    "model3.initialize(train)"
   ]
  },
  {
   "cell_type": "code",
   "execution_count": 28,
   "metadata": {},
   "outputs": [
    {
     "name": "stdout",
     "output_type": "stream",
     "text": [
      "* Number of trainable parameters: 27153810\n",
      "===>  TRAIN Epoch 1 :\n"
     ]
    },
    {
     "name": "stderr",
     "output_type": "stream",
     "text": [
      "0% [█] 100% | ETA: 00:00:00\n",
      "Total time elapsed: 00:00:18\n"
     ]
    },
    {
     "name": "stdout",
     "output_type": "stream",
     "text": [
      "Finished Epoch 1 || Run Time:   28.7 | Load Time:    0.0 || F1:  31.29 | Prec:  38.98 | Rec:  26.14 || Ex/s:   7.66\n",
      "\n",
      "===>  EVAL Epoch 1 :\n",
      "Finished Epoch 1 || Run Time:    1.0 | Load Time:    0.0 || F1:  14.29 | Prec: 100.00 | Rec:   7.69 || Ex/s:  30.17\n",
      "\n",
      "* Best F1: 14.285714285714286\n",
      "Saving best model...\n",
      "===>  TRAIN Epoch 2 :\n"
     ]
    },
    {
     "name": "stderr",
     "output_type": "stream",
     "text": [
      "0% [█] 100% | ETA: 00:00:00\n",
      "Total time elapsed: 00:00:21\n"
     ]
    },
    {
     "name": "stdout",
     "output_type": "stream",
     "text": [
      "Finished Epoch 2 || Run Time:   31.3 | Load Time:    0.1 || F1:   4.44 | Prec: 100.00 | Rec:   2.27 || Ex/s:   7.01\n",
      "\n",
      "===>  EVAL Epoch 2 :\n",
      "Finished Epoch 2 || Run Time:    0.9 | Load Time:    0.0 || F1:   0.00 | Prec:   0.00 | Rec:   0.00 || Ex/s:  32.78\n",
      "\n",
      "===>  TRAIN Epoch 3 :\n"
     ]
    },
    {
     "name": "stderr",
     "output_type": "stream",
     "text": [
      "0% [█] 100% | ETA: 00:00:00\n",
      "Total time elapsed: 00:00:16\n"
     ]
    },
    {
     "name": "stdout",
     "output_type": "stream",
     "text": [
      "Finished Epoch 3 || Run Time:   26.7 | Load Time:    0.0 || F1:  40.00 | Prec:  67.57 | Rec:  28.41 || Ex/s:   8.23\n",
      "\n",
      "===>  EVAL Epoch 3 :\n",
      "Finished Epoch 3 || Run Time:    1.0 | Load Time:    0.0 || F1:  60.61 | Prec:  50.00 | Rec:  76.92 || Ex/s:  29.13\n",
      "\n",
      "* Best F1: 60.60606060606061\n",
      "Saving best model...\n",
      "===>  TRAIN Epoch 4 :\n"
     ]
    },
    {
     "name": "stderr",
     "output_type": "stream",
     "text": [
      "0% [█] 100% | ETA: 00:00:00\n",
      "Total time elapsed: 00:00:17\n"
     ]
    },
    {
     "name": "stdout",
     "output_type": "stream",
     "text": [
      "Finished Epoch 4 || Run Time:   26.2 | Load Time:    0.1 || F1:  65.66 | Prec:  59.09 | Rec:  73.86 || Ex/s:   8.38\n",
      "\n",
      "===>  EVAL Epoch 4 :\n",
      "Finished Epoch 4 || Run Time:    1.0 | Load Time:    0.0 || F1:  66.67 | Prec:  72.73 | Rec:  61.54 || Ex/s:  31.15\n",
      "\n",
      "* Best F1: 66.66666666666667\n",
      "Saving best model...\n",
      "===>  TRAIN Epoch 5 :\n"
     ]
    },
    {
     "name": "stderr",
     "output_type": "stream",
     "text": [
      "0% [█] 100% | ETA: 00:00:00\n",
      "Total time elapsed: 00:00:17\n"
     ]
    },
    {
     "name": "stdout",
     "output_type": "stream",
     "text": [
      "Finished Epoch 5 || Run Time:   26.4 | Load Time:    0.0 || F1:  70.86 | Prec:  71.26 | Rec:  70.45 || Ex/s:   8.32\n",
      "\n",
      "===>  EVAL Epoch 5 :\n",
      "Finished Epoch 5 || Run Time:    0.9 | Load Time:    0.0 || F1:  66.67 | Prec:  72.73 | Rec:  61.54 || Ex/s:  32.89\n",
      "\n",
      "===>  TRAIN Epoch 6 :\n"
     ]
    },
    {
     "name": "stderr",
     "output_type": "stream",
     "text": [
      "0% [█] 100% | ETA: 00:00:00\n",
      "Total time elapsed: 00:00:16\n"
     ]
    },
    {
     "name": "stdout",
     "output_type": "stream",
     "text": [
      "Finished Epoch 6 || Run Time:   25.7 | Load Time:    0.0 || F1:  74.42 | Prec:  76.19 | Rec:  72.73 || Ex/s:   8.54\n",
      "\n",
      "===>  EVAL Epoch 6 :\n",
      "Finished Epoch 6 || Run Time:    1.0 | Load Time:    0.0 || F1:  69.23 | Prec:  69.23 | Rec:  69.23 || Ex/s:  30.48\n",
      "\n",
      "* Best F1: 69.23076923076923\n",
      "Saving best model...\n",
      "===>  TRAIN Epoch 7 :\n"
     ]
    },
    {
     "name": "stderr",
     "output_type": "stream",
     "text": [
      "0% [█] 100% | ETA: 00:00:00\n",
      "Total time elapsed: 00:00:16\n"
     ]
    },
    {
     "name": "stdout",
     "output_type": "stream",
     "text": [
      "Finished Epoch 7 || Run Time:   25.9 | Load Time:    0.0 || F1:  85.88 | Prec:  89.02 | Rec:  82.95 || Ex/s:   8.47\n",
      "\n",
      "===>  EVAL Epoch 7 :\n",
      "Finished Epoch 7 || Run Time:    1.0 | Load Time:    0.0 || F1:  66.67 | Prec:  64.29 | Rec:  69.23 || Ex/s:  30.40\n",
      "\n",
      "===>  TRAIN Epoch 8 :\n"
     ]
    },
    {
     "name": "stderr",
     "output_type": "stream",
     "text": [
      "0% [█] 100% | ETA: 00:00:00\n",
      "Total time elapsed: 00:00:16\n"
     ]
    },
    {
     "name": "stdout",
     "output_type": "stream",
     "text": [
      "Finished Epoch 8 || Run Time:   26.4 | Load Time:    0.0 || F1:  88.10 | Prec:  92.50 | Rec:  84.09 || Ex/s:   8.33\n",
      "\n",
      "===>  EVAL Epoch 8 :\n",
      "Finished Epoch 8 || Run Time:    1.0 | Load Time:    0.0 || F1:  66.67 | Prec:  64.29 | Rec:  69.23 || Ex/s:  30.00\n",
      "\n",
      "===>  TRAIN Epoch 9 :\n"
     ]
    },
    {
     "name": "stderr",
     "output_type": "stream",
     "text": [
      "0% [█] 100% | ETA: 00:00:00\n",
      "Total time elapsed: 00:00:16\n"
     ]
    },
    {
     "name": "stdout",
     "output_type": "stream",
     "text": [
      "Finished Epoch 9 || Run Time:   26.2 | Load Time:    0.0 || F1:  88.24 | Prec:  91.46 | Rec:  85.23 || Ex/s:   8.39\n",
      "\n",
      "===>  EVAL Epoch 9 :\n",
      "Finished Epoch 9 || Run Time:    1.0 | Load Time:    0.0 || F1:  72.00 | Prec:  75.00 | Rec:  69.23 || Ex/s:  29.96\n",
      "\n",
      "* Best F1: 72.0\n",
      "Saving best model...\n",
      "===>  TRAIN Epoch 10 :\n"
     ]
    },
    {
     "name": "stderr",
     "output_type": "stream",
     "text": [
      "0% [█] 100% | ETA: 00:00:00\n",
      "Total time elapsed: 00:00:17\n"
     ]
    },
    {
     "name": "stdout",
     "output_type": "stream",
     "text": [
      "Finished Epoch 10 || Run Time:   26.9 | Load Time:    0.1 || F1:  91.67 | Prec:  96.25 | Rec:  87.50 || Ex/s:   8.17\n",
      "\n",
      "===>  EVAL Epoch 10 :\n",
      "Finished Epoch 10 || Run Time:    0.9 | Load Time:    0.0 || F1:  69.23 | Prec:  69.23 | Rec:  69.23 || Ex/s:  31.57\n",
      "\n",
      "===>  TRAIN Epoch 11 :\n"
     ]
    },
    {
     "name": "stderr",
     "output_type": "stream",
     "text": [
      "0% [█] 100% | ETA: 00:00:00\n",
      "Total time elapsed: 00:00:16\n"
     ]
    },
    {
     "name": "stdout",
     "output_type": "stream",
     "text": [
      "Finished Epoch 11 || Run Time:   25.6 | Load Time:    0.0 || F1:  93.49 | Prec:  97.53 | Rec:  89.77 || Ex/s:   8.58\n",
      "\n",
      "===>  EVAL Epoch 11 :\n",
      "Finished Epoch 11 || Run Time:    1.0 | Load Time:    0.0 || F1:  68.97 | Prec:  62.50 | Rec:  76.92 || Ex/s:  31.06\n",
      "\n",
      "===>  TRAIN Epoch 12 :\n"
     ]
    },
    {
     "name": "stderr",
     "output_type": "stream",
     "text": [
      "0% [█] 100% | ETA: 00:00:00\n",
      "Total time elapsed: 00:00:16\n"
     ]
    },
    {
     "name": "stdout",
     "output_type": "stream",
     "text": [
      "Finished Epoch 12 || Run Time:   25.8 | Load Time:    0.0 || F1:  95.35 | Prec:  97.62 | Rec:  93.18 || Ex/s:   8.50\n",
      "\n",
      "===>  EVAL Epoch 12 :\n",
      "Finished Epoch 12 || Run Time:    0.9 | Load Time:    0.0 || F1:  68.97 | Prec:  62.50 | Rec:  76.92 || Ex/s:  32.36\n",
      "\n",
      "===>  TRAIN Epoch 13 :\n"
     ]
    },
    {
     "name": "stderr",
     "output_type": "stream",
     "text": [
      "0% [█] 100% | ETA: 00:00:00\n",
      "Total time elapsed: 00:00:16\n"
     ]
    },
    {
     "name": "stdout",
     "output_type": "stream",
     "text": [
      "Finished Epoch 13 || Run Time:   25.4 | Load Time:    0.0 || F1:  97.08 | Prec: 100.00 | Rec:  94.32 || Ex/s:   8.66\n",
      "\n",
      "===>  EVAL Epoch 13 :\n",
      "Finished Epoch 13 || Run Time:    0.9 | Load Time:    0.0 || F1:  68.97 | Prec:  62.50 | Rec:  76.92 || Ex/s:  32.76\n",
      "\n",
      "===>  TRAIN Epoch 14 :\n"
     ]
    },
    {
     "name": "stderr",
     "output_type": "stream",
     "text": [
      "0% [█] 100% | ETA: 00:00:00\n",
      "Total time elapsed: 00:00:16\n"
     ]
    },
    {
     "name": "stdout",
     "output_type": "stream",
     "text": [
      "Finished Epoch 14 || Run Time:   25.1 | Load Time:    0.0 || F1:  97.08 | Prec: 100.00 | Rec:  94.32 || Ex/s:   8.76\n",
      "\n",
      "===>  EVAL Epoch 14 :\n",
      "Finished Epoch 14 || Run Time:    0.9 | Load Time:    0.0 || F1:  68.97 | Prec:  62.50 | Rec:  76.92 || Ex/s:  32.01\n",
      "\n",
      "===>  TRAIN Epoch 15 :\n"
     ]
    },
    {
     "name": "stderr",
     "output_type": "stream",
     "text": [
      "0% [█] 100% | ETA: 00:00:00\n",
      "Total time elapsed: 00:00:16\n"
     ]
    },
    {
     "name": "stdout",
     "output_type": "stream",
     "text": [
      "Finished Epoch 15 || Run Time:   25.7 | Load Time:    0.0 || F1:  97.67 | Prec: 100.00 | Rec:  95.45 || Ex/s:   8.54\n",
      "\n",
      "===>  EVAL Epoch 15 :\n",
      "Finished Epoch 15 || Run Time:    0.9 | Load Time:    0.0 || F1:  68.97 | Prec:  62.50 | Rec:  76.92 || Ex/s:  32.93\n",
      "\n",
      "===>  TRAIN Epoch 16 :\n"
     ]
    },
    {
     "name": "stderr",
     "output_type": "stream",
     "text": [
      "0% [█] 100% | ETA: 00:00:00\n",
      "Total time elapsed: 00:00:16\n"
     ]
    },
    {
     "name": "stdout",
     "output_type": "stream",
     "text": [
      "Finished Epoch 16 || Run Time:   25.5 | Load Time:    0.0 || F1:  97.67 | Prec: 100.00 | Rec:  95.45 || Ex/s:   8.61\n",
      "\n",
      "===>  EVAL Epoch 16 :\n",
      "Finished Epoch 16 || Run Time:    0.9 | Load Time:    0.0 || F1:  68.97 | Prec:  62.50 | Rec:  76.92 || Ex/s:  31.55\n",
      "\n",
      "===>  TRAIN Epoch 17 :\n"
     ]
    },
    {
     "name": "stderr",
     "output_type": "stream",
     "text": [
      "0% [█] 100% | ETA: 00:00:00\n",
      "Total time elapsed: 00:00:16\n"
     ]
    },
    {
     "name": "stdout",
     "output_type": "stream",
     "text": [
      "Finished Epoch 17 || Run Time:   25.6 | Load Time:    0.0 || F1:  97.67 | Prec: 100.00 | Rec:  95.45 || Ex/s:   8.58\n",
      "\n",
      "===>  EVAL Epoch 17 :\n",
      "Finished Epoch 17 || Run Time:    1.0 | Load Time:    0.0 || F1:  66.67 | Prec:  58.82 | Rec:  76.92 || Ex/s:  31.15\n",
      "\n",
      "===>  TRAIN Epoch 18 :\n"
     ]
    },
    {
     "name": "stderr",
     "output_type": "stream",
     "text": [
      "0% [█] 100% | ETA: 00:00:00\n",
      "Total time elapsed: 00:00:16\n"
     ]
    },
    {
     "name": "stdout",
     "output_type": "stream",
     "text": [
      "Finished Epoch 18 || Run Time:   25.5 | Load Time:    0.0 || F1:  98.27 | Prec: 100.00 | Rec:  96.59 || Ex/s:   8.63\n",
      "\n",
      "===>  EVAL Epoch 18 :\n",
      "Finished Epoch 18 || Run Time:    0.9 | Load Time:    0.0 || F1:  66.67 | Prec:  58.82 | Rec:  76.92 || Ex/s:  31.83\n",
      "\n",
      "===>  TRAIN Epoch 19 :\n"
     ]
    },
    {
     "name": "stderr",
     "output_type": "stream",
     "text": [
      "0% [█] 100% | ETA: 00:00:00\n",
      "Total time elapsed: 00:00:16\n"
     ]
    },
    {
     "name": "stdout",
     "output_type": "stream",
     "text": [
      "Finished Epoch 19 || Run Time:   25.4 | Load Time:    0.0 || F1:  98.27 | Prec: 100.00 | Rec:  96.59 || Ex/s:   8.64\n",
      "\n",
      "===>  EVAL Epoch 19 :\n",
      "Finished Epoch 19 || Run Time:    0.9 | Load Time:    0.0 || F1:  66.67 | Prec:  58.82 | Rec:  76.92 || Ex/s:  31.42\n",
      "\n",
      "===>  TRAIN Epoch 20 :\n"
     ]
    },
    {
     "name": "stderr",
     "output_type": "stream",
     "text": [
      "0% [█] 100% | ETA: 00:00:00\n",
      "Total time elapsed: 00:00:18\n"
     ]
    },
    {
     "name": "stdout",
     "output_type": "stream",
     "text": [
      "Finished Epoch 20 || Run Time:   27.6 | Load Time:    0.1 || F1:  98.27 | Prec: 100.00 | Rec:  96.59 || Ex/s:   7.95\n",
      "\n",
      "===>  EVAL Epoch 20 :\n",
      "Finished Epoch 20 || Run Time:    1.0 | Load Time:    0.0 || F1:  66.67 | Prec:  58.82 | Rec:  76.92 || Ex/s:  30.21\n",
      "\n",
      "===>  TRAIN Epoch 21 :\n"
     ]
    },
    {
     "name": "stderr",
     "output_type": "stream",
     "text": [
      "0% [█] 100% | ETA: 00:00:00\n",
      "Total time elapsed: 00:00:16\n"
     ]
    },
    {
     "name": "stdout",
     "output_type": "stream",
     "text": [
      "Finished Epoch 21 || Run Time:   25.5 | Load Time:    0.0 || F1:  98.85 | Prec: 100.00 | Rec:  97.73 || Ex/s:   8.61\n",
      "\n",
      "===>  EVAL Epoch 21 :\n",
      "Finished Epoch 21 || Run Time:    0.9 | Load Time:    0.0 || F1:  66.67 | Prec:  58.82 | Rec:  76.92 || Ex/s:  31.69\n",
      "\n",
      "===>  TRAIN Epoch 22 :\n"
     ]
    },
    {
     "name": "stderr",
     "output_type": "stream",
     "text": [
      "0% [█] 100% | ETA: 00:00:00\n",
      "Total time elapsed: 00:00:16\n"
     ]
    },
    {
     "name": "stdout",
     "output_type": "stream",
     "text": [
      "Finished Epoch 22 || Run Time:   25.1 | Load Time:    0.0 || F1:  98.85 | Prec: 100.00 | Rec:  97.73 || Ex/s:   8.75\n",
      "\n",
      "===>  EVAL Epoch 22 :\n",
      "Finished Epoch 22 || Run Time:    0.9 | Load Time:    0.0 || F1:  66.67 | Prec:  58.82 | Rec:  76.92 || Ex/s:  32.69\n",
      "\n",
      "===>  TRAIN Epoch 23 :\n"
     ]
    },
    {
     "name": "stderr",
     "output_type": "stream",
     "text": [
      "0% [█] 100% | ETA: 00:00:00\n",
      "Total time elapsed: 00:00:16\n"
     ]
    },
    {
     "name": "stdout",
     "output_type": "stream",
     "text": [
      "Finished Epoch 23 || Run Time:   25.2 | Load Time:    0.0 || F1:  98.85 | Prec: 100.00 | Rec:  97.73 || Ex/s:   8.73\n",
      "\n",
      "===>  EVAL Epoch 23 :\n",
      "Finished Epoch 23 || Run Time:    0.9 | Load Time:    0.0 || F1:  66.67 | Prec:  58.82 | Rec:  76.92 || Ex/s:  32.33\n",
      "\n",
      "===>  TRAIN Epoch 24 :\n"
     ]
    },
    {
     "name": "stderr",
     "output_type": "stream",
     "text": [
      "0% [█] 100% | ETA: 00:00:00\n",
      "Total time elapsed: 00:00:16\n"
     ]
    },
    {
     "name": "stdout",
     "output_type": "stream",
     "text": [
      "Finished Epoch 24 || Run Time:   25.2 | Load Time:    0.0 || F1:  98.85 | Prec: 100.00 | Rec:  97.73 || Ex/s:   8.73\n",
      "\n",
      "===>  EVAL Epoch 24 :\n",
      "Finished Epoch 24 || Run Time:    0.9 | Load Time:    0.0 || F1:  66.67 | Prec:  58.82 | Rec:  76.92 || Ex/s:  32.29\n",
      "\n",
      "===>  TRAIN Epoch 25 :\n"
     ]
    },
    {
     "name": "stderr",
     "output_type": "stream",
     "text": [
      "0% [█] 100% | ETA: 00:00:00\n",
      "Total time elapsed: 00:00:16\n"
     ]
    },
    {
     "name": "stdout",
     "output_type": "stream",
     "text": [
      "Finished Epoch 25 || Run Time:   25.2 | Load Time:    0.0 || F1:  98.85 | Prec: 100.00 | Rec:  97.73 || Ex/s:   8.73\n",
      "\n",
      "===>  EVAL Epoch 25 :\n",
      "Finished Epoch 25 || Run Time:    0.9 | Load Time:    0.0 || F1:  66.67 | Prec:  58.82 | Rec:  76.92 || Ex/s:  32.38\n",
      "\n",
      "===>  TRAIN Epoch 26 :\n"
     ]
    },
    {
     "name": "stderr",
     "output_type": "stream",
     "text": [
      "0% [█] 100% | ETA: 00:00:00\n",
      "Total time elapsed: 00:00:17\n"
     ]
    },
    {
     "name": "stdout",
     "output_type": "stream",
     "text": [
      "Finished Epoch 26 || Run Time:   27.1 | Load Time:    0.0 || F1:  98.85 | Prec: 100.00 | Rec:  97.73 || Ex/s:   8.11\n",
      "\n",
      "===>  EVAL Epoch 26 :\n",
      "Finished Epoch 26 || Run Time:    1.0 | Load Time:    0.0 || F1:  66.67 | Prec:  58.82 | Rec:  76.92 || Ex/s:  28.72\n",
      "\n",
      "===>  TRAIN Epoch 27 :\n"
     ]
    },
    {
     "name": "stderr",
     "output_type": "stream",
     "text": [
      "0% [█] 100% | ETA: 00:00:00\n",
      "Total time elapsed: 00:00:18\n"
     ]
    },
    {
     "name": "stdout",
     "output_type": "stream",
     "text": [
      "Finished Epoch 27 || Run Time:   27.3 | Load Time:    0.0 || F1:  99.43 | Prec: 100.00 | Rec:  98.86 || Ex/s:   8.04\n",
      "\n",
      "===>  EVAL Epoch 27 :\n",
      "Finished Epoch 27 || Run Time:    1.0 | Load Time:    0.0 || F1:  66.67 | Prec:  58.82 | Rec:  76.92 || Ex/s:  30.84\n",
      "\n",
      "===>  TRAIN Epoch 28 :\n"
     ]
    },
    {
     "name": "stderr",
     "output_type": "stream",
     "text": [
      "0% [█] 100% | ETA: 00:00:00\n",
      "Total time elapsed: 00:00:16\n"
     ]
    },
    {
     "name": "stdout",
     "output_type": "stream",
     "text": [
      "Finished Epoch 28 || Run Time:   26.0 | Load Time:    0.0 || F1:  99.43 | Prec: 100.00 | Rec:  98.86 || Ex/s:   8.46\n",
      "\n",
      "===>  EVAL Epoch 28 :\n",
      "Finished Epoch 28 || Run Time:    0.9 | Load Time:    0.0 || F1:  66.67 | Prec:  58.82 | Rec:  76.92 || Ex/s:  31.62\n",
      "\n",
      "===>  TRAIN Epoch 29 :\n"
     ]
    },
    {
     "name": "stderr",
     "output_type": "stream",
     "text": [
      "0% [█] 100% | ETA: 00:00:00\n",
      "Total time elapsed: 00:00:17\n"
     ]
    },
    {
     "name": "stdout",
     "output_type": "stream",
     "text": [
      "Finished Epoch 29 || Run Time:   26.7 | Load Time:    0.0 || F1:  99.43 | Prec: 100.00 | Rec:  98.86 || Ex/s:   8.23\n",
      "\n",
      "===>  EVAL Epoch 29 :\n",
      "Finished Epoch 29 || Run Time:    1.0 | Load Time:    0.0 || F1:  66.67 | Prec:  58.82 | Rec:  76.92 || Ex/s:  29.72\n",
      "\n",
      "===>  TRAIN Epoch 30 :\n"
     ]
    },
    {
     "name": "stderr",
     "output_type": "stream",
     "text": [
      "0% [█] 100% | ETA: 00:00:00\n",
      "Total time elapsed: 00:00:18\n"
     ]
    },
    {
     "name": "stdout",
     "output_type": "stream",
     "text": [
      "Finished Epoch 30 || Run Time:   28.1 | Load Time:    0.0 || F1:  99.43 | Prec: 100.00 | Rec:  98.86 || Ex/s:   7.83\n",
      "\n",
      "===>  EVAL Epoch 30 :\n",
      "Finished Epoch 30 || Run Time:    1.1 | Load Time:    0.0 || F1:  66.67 | Prec:  58.82 | Rec:  76.92 || Ex/s:  26.87\n",
      "\n",
      "Loading best model...\n"
     ]
    }
   ],
   "source": [
    "model3.run_train(train, validation, best_save_path='hybrid_model3.pth')"
   ]
  },
  {
   "cell_type": "code",
   "execution_count": 29,
   "metadata": {},
   "outputs": [
    {
     "name": "stdout",
     "output_type": "stream",
     "text": [
      "===>  EVAL Epoch 9 :\n"
     ]
    },
    {
     "name": "stderr",
     "output_type": "stream",
     "text": [
      "0% [█] 100% | ETA: 00:00:00\n",
      "Total time elapsed: 00:00:04\n"
     ]
    },
    {
     "name": "stdout",
     "output_type": "stream",
     "text": [
      "Finished Epoch 9 || Run Time:    7.1 | Load Time:    0.1 || F1:  89.41 | Prec:  92.68 | Rec:  86.36 || Ex/s:  30.57\n",
      "\n"
     ]
    },
    {
     "data": {
      "text/plain": [
       "89.41176470588235"
      ]
     },
     "execution_count": 29,
     "metadata": {},
     "output_type": "execute_result"
    }
   ],
   "source": [
    "model3.run_eval(train)"
   ]
  },
  {
   "cell_type": "code",
   "execution_count": 30,
   "metadata": {},
   "outputs": [
    {
     "name": "stdout",
     "output_type": "stream",
     "text": [
      "===>  EVAL Epoch 9 :\n"
     ]
    },
    {
     "name": "stderr",
     "output_type": "stream",
     "text": [
      "0% [█] 100% | ETA: 00:00:00\n",
      "Total time elapsed: 00:00:04\n"
     ]
    },
    {
     "name": "stdout",
     "output_type": "stream",
     "text": [
      "Finished Epoch 9 || Run Time:    7.4 | Load Time:    0.1 || F1:  53.57 | Prec:  61.64 | Rec:  47.37 || Ex/s:  33.51\n",
      "\n"
     ]
    },
    {
     "data": {
      "text/plain": [
       "53.57142857142858"
      ]
     },
     "execution_count": 30,
     "metadata": {},
     "output_type": "execute_result"
    }
   ],
   "source": [
    "model3.run_eval(test)"
   ]
  },
  {
   "cell_type": "code",
   "execution_count": 32,
   "metadata": {},
   "outputs": [],
   "source": [
    "model4 = dm.MatchingModel(classifier='2-layer-highway-tanh', attr_summarizer=dm.attr_summarizers.Hybrid(\n",
    "        word_contextualizer='self-attention',\n",
    "        word_comparator='bilinear-attention',\n",
    "        word_aggregator='inv-freq-avg-pool'))\n",
    "model4.initialize(train)"
   ]
  },
  {
   "cell_type": "code",
   "execution_count": 33,
   "metadata": {},
   "outputs": [
    {
     "name": "stdout",
     "output_type": "stream",
     "text": [
      "* Number of trainable parameters: 11973802\n",
      "===>  TRAIN Epoch 1 :\n"
     ]
    },
    {
     "name": "stderr",
     "output_type": "stream",
     "text": [
      "0% [█] 100% | ETA: 00:00:00\n",
      "Total time elapsed: 00:00:06\n"
     ]
    },
    {
     "name": "stdout",
     "output_type": "stream",
     "text": [
      "Finished Epoch 1 || Run Time:   10.1 | Load Time:    0.0 || F1:  10.31 | Prec:  55.56 | Rec:   5.68 || Ex/s:  21.59\n",
      "\n",
      "===>  EVAL Epoch 1 :\n",
      "Finished Epoch 1 || Run Time:    0.4 | Load Time:    0.0 || F1:   0.00 | Prec:   0.00 | Rec:   0.00 || Ex/s:  70.51\n",
      "\n",
      "* Best F1: 0.0\n",
      "Saving best model...\n",
      "===>  TRAIN Epoch 2 :\n"
     ]
    },
    {
     "name": "stderr",
     "output_type": "stream",
     "text": [
      "0% [█] 100% | ETA: 00:00:00\n",
      "Total time elapsed: 00:00:06\n"
     ]
    },
    {
     "name": "stdout",
     "output_type": "stream",
     "text": [
      "Finished Epoch 2 || Run Time:    9.9 | Load Time:    0.0 || F1:   2.25 | Prec: 100.00 | Rec:   1.14 || Ex/s:  22.19\n",
      "\n",
      "===>  EVAL Epoch 2 :\n",
      "Finished Epoch 2 || Run Time:    0.4 | Load Time:    0.0 || F1:   0.00 | Prec:   0.00 | Rec:   0.00 || Ex/s:  69.89\n",
      "\n",
      "===>  TRAIN Epoch 3 :\n"
     ]
    },
    {
     "name": "stderr",
     "output_type": "stream",
     "text": [
      "0% [█] 100% | ETA: 00:00:00\n",
      "Total time elapsed: 00:00:06\n"
     ]
    },
    {
     "name": "stdout",
     "output_type": "stream",
     "text": [
      "Finished Epoch 3 || Run Time:   10.0 | Load Time:    0.0 || F1:  66.67 | Prec:  95.74 | Rec:  51.14 || Ex/s:  21.94\n",
      "\n",
      "===>  EVAL Epoch 3 :\n",
      "Finished Epoch 3 || Run Time:    0.6 | Load Time:    0.0 || F1:  88.00 | Prec:  91.67 | Rec:  84.62 || Ex/s:  52.97\n",
      "\n",
      "* Best F1: 88.00000000000001\n",
      "Saving best model...\n",
      "===>  TRAIN Epoch 4 :\n"
     ]
    },
    {
     "name": "stderr",
     "output_type": "stream",
     "text": [
      "0% [█] 100% | ETA: 00:00:00\n",
      "Total time elapsed: 00:00:06\n"
     ]
    },
    {
     "name": "stdout",
     "output_type": "stream",
     "text": [
      "Finished Epoch 4 || Run Time:   10.3 | Load Time:    0.0 || F1:  91.12 | Prec:  95.06 | Rec:  87.50 || Ex/s:  21.32\n",
      "\n",
      "===>  EVAL Epoch 4 :\n",
      "Finished Epoch 4 || Run Time:    0.4 | Load Time:    0.0 || F1:  88.00 | Prec:  91.67 | Rec:  84.62 || Ex/s:  65.58\n",
      "\n",
      "===>  TRAIN Epoch 5 :\n"
     ]
    },
    {
     "name": "stderr",
     "output_type": "stream",
     "text": [
      "0% [█] 100% | ETA: 00:00:00\n",
      "Total time elapsed: 00:00:06\n"
     ]
    },
    {
     "name": "stdout",
     "output_type": "stream",
     "text": [
      "Finished Epoch 5 || Run Time:   10.1 | Load Time:    0.0 || F1:  92.22 | Prec:  97.47 | Rec:  87.50 || Ex/s:  21.66\n",
      "\n",
      "===>  EVAL Epoch 5 :\n",
      "Finished Epoch 5 || Run Time:    0.4 | Load Time:    0.0 || F1:  88.00 | Prec:  91.67 | Rec:  84.62 || Ex/s:  69.20\n",
      "\n",
      "===>  TRAIN Epoch 6 :\n"
     ]
    },
    {
     "name": "stderr",
     "output_type": "stream",
     "text": [
      "0% [█] 100% | ETA: 00:00:00\n",
      "Total time elapsed: 00:00:06\n"
     ]
    },
    {
     "name": "stdout",
     "output_type": "stream",
     "text": [
      "Finished Epoch 6 || Run Time:    9.9 | Load Time:    0.0 || F1:  92.22 | Prec:  97.47 | Rec:  87.50 || Ex/s:  22.10\n",
      "\n",
      "===>  EVAL Epoch 6 :\n",
      "Finished Epoch 6 || Run Time:    0.4 | Load Time:    0.0 || F1:  88.00 | Prec:  91.67 | Rec:  84.62 || Ex/s:  68.88\n",
      "\n",
      "===>  TRAIN Epoch 7 :\n"
     ]
    },
    {
     "name": "stderr",
     "output_type": "stream",
     "text": [
      "0% [█] 100% | ETA: 00:00:00\n",
      "Total time elapsed: 00:00:06\n"
     ]
    },
    {
     "name": "stdout",
     "output_type": "stream",
     "text": [
      "Finished Epoch 7 || Run Time:    9.7 | Load Time:    0.0 || F1:  93.49 | Prec:  97.53 | Rec:  89.77 || Ex/s:  22.49\n",
      "\n",
      "===>  EVAL Epoch 7 :\n",
      "Finished Epoch 7 || Run Time:    0.4 | Load Time:    0.0 || F1:  88.00 | Prec:  91.67 | Rec:  84.62 || Ex/s:  69.63\n",
      "\n",
      "===>  TRAIN Epoch 8 :\n"
     ]
    },
    {
     "name": "stderr",
     "output_type": "stream",
     "text": [
      "0% [█] 100% | ETA: 00:00:00\n",
      "Total time elapsed: 00:00:06\n"
     ]
    },
    {
     "name": "stdout",
     "output_type": "stream",
     "text": [
      "Finished Epoch 8 || Run Time:    9.7 | Load Time:    0.0 || F1:  95.29 | Prec:  98.78 | Rec:  92.05 || Ex/s:  22.54\n",
      "\n",
      "===>  EVAL Epoch 8 :\n",
      "Finished Epoch 8 || Run Time:    0.4 | Load Time:    0.0 || F1:  88.00 | Prec:  91.67 | Rec:  84.62 || Ex/s:  70.03\n",
      "\n",
      "===>  TRAIN Epoch 9 :\n"
     ]
    },
    {
     "name": "stderr",
     "output_type": "stream",
     "text": [
      "0% [█] 100% | ETA: 00:00:00\n",
      "Total time elapsed: 00:00:06\n"
     ]
    },
    {
     "name": "stdout",
     "output_type": "stream",
     "text": [
      "Finished Epoch 9 || Run Time:    9.7 | Load Time:    0.0 || F1:  98.29 | Prec:  98.85 | Rec:  97.73 || Ex/s:  22.50\n",
      "\n",
      "===>  EVAL Epoch 9 :\n",
      "Finished Epoch 9 || Run Time:    0.4 | Load Time:    0.0 || F1:  88.00 | Prec:  91.67 | Rec:  84.62 || Ex/s:  70.51\n",
      "\n",
      "===>  TRAIN Epoch 10 :\n"
     ]
    },
    {
     "name": "stderr",
     "output_type": "stream",
     "text": [
      "0% [█] 100% | ETA: 00:00:00\n",
      "Total time elapsed: 00:00:06\n"
     ]
    },
    {
     "name": "stdout",
     "output_type": "stream",
     "text": [
      "Finished Epoch 10 || Run Time:    9.7 | Load Time:    0.0 || F1:  98.85 | Prec: 100.00 | Rec:  97.73 || Ex/s:  22.57\n",
      "\n",
      "===>  EVAL Epoch 10 :\n",
      "Finished Epoch 10 || Run Time:    0.4 | Load Time:    0.0 || F1:  91.67 | Prec: 100.00 | Rec:  84.62 || Ex/s:  70.34\n",
      "\n",
      "* Best F1: 91.66666666666666\n",
      "Saving best model...\n",
      "===>  TRAIN Epoch 11 :\n"
     ]
    },
    {
     "name": "stderr",
     "output_type": "stream",
     "text": [
      "0% [█] 100% | ETA: 00:00:00\n",
      "Total time elapsed: 00:00:06\n"
     ]
    },
    {
     "name": "stdout",
     "output_type": "stream",
     "text": [
      "Finished Epoch 11 || Run Time:    9.7 | Load Time:    0.0 || F1:  99.43 | Prec: 100.00 | Rec:  98.86 || Ex/s:  22.50\n",
      "\n",
      "===>  EVAL Epoch 11 :\n",
      "Finished Epoch 11 || Run Time:    0.4 | Load Time:    0.0 || F1:  91.67 | Prec: 100.00 | Rec:  84.62 || Ex/s:  70.51\n",
      "\n",
      "===>  TRAIN Epoch 12 :\n"
     ]
    },
    {
     "name": "stderr",
     "output_type": "stream",
     "text": [
      "0% [█] 100% | ETA: 00:00:00\n",
      "Total time elapsed: 00:00:06\n"
     ]
    },
    {
     "name": "stdout",
     "output_type": "stream",
     "text": [
      "Finished Epoch 12 || Run Time:    9.8 | Load Time:    0.0 || F1:  99.43 | Prec: 100.00 | Rec:  98.86 || Ex/s:  22.38\n",
      "\n",
      "===>  EVAL Epoch 12 :\n",
      "Finished Epoch 12 || Run Time:    0.4 | Load Time:    0.0 || F1:  91.67 | Prec: 100.00 | Rec:  84.62 || Ex/s:  70.45\n",
      "\n",
      "===>  TRAIN Epoch 13 :\n"
     ]
    },
    {
     "name": "stderr",
     "output_type": "stream",
     "text": [
      "0% [█] 100% | ETA: 00:00:00\n",
      "Total time elapsed: 00:00:06\n"
     ]
    },
    {
     "name": "stdout",
     "output_type": "stream",
     "text": [
      "Finished Epoch 13 || Run Time:    9.8 | Load Time:    0.0 || F1: 100.00 | Prec: 100.00 | Rec: 100.00 || Ex/s:  22.33\n",
      "\n",
      "===>  EVAL Epoch 13 :\n",
      "Finished Epoch 13 || Run Time:    0.4 | Load Time:    0.0 || F1:  91.67 | Prec: 100.00 | Rec:  84.62 || Ex/s:  69.80\n",
      "\n",
      "===>  TRAIN Epoch 14 :\n"
     ]
    },
    {
     "name": "stderr",
     "output_type": "stream",
     "text": [
      "0% [█] 100% | ETA: 00:00:00\n",
      "Total time elapsed: 00:00:06\n"
     ]
    },
    {
     "name": "stdout",
     "output_type": "stream",
     "text": [
      "Finished Epoch 14 || Run Time:    9.7 | Load Time:    0.0 || F1: 100.00 | Prec: 100.00 | Rec: 100.00 || Ex/s:  22.55\n",
      "\n",
      "===>  EVAL Epoch 14 :\n",
      "Finished Epoch 14 || Run Time:    0.4 | Load Time:    0.0 || F1:  91.67 | Prec: 100.00 | Rec:  84.62 || Ex/s:  70.12\n",
      "\n",
      "===>  TRAIN Epoch 15 :\n"
     ]
    },
    {
     "name": "stderr",
     "output_type": "stream",
     "text": [
      "0% [█] 100% | ETA: 00:00:00\n",
      "Total time elapsed: 00:00:06\n"
     ]
    },
    {
     "name": "stdout",
     "output_type": "stream",
     "text": [
      "Finished Epoch 15 || Run Time:    9.7 | Load Time:    0.0 || F1: 100.00 | Prec: 100.00 | Rec: 100.00 || Ex/s:  22.49\n",
      "\n",
      "===>  EVAL Epoch 15 :\n",
      "Finished Epoch 15 || Run Time:    0.4 | Load Time:    0.0 || F1:  91.67 | Prec: 100.00 | Rec:  84.62 || Ex/s:  70.44\n",
      "\n",
      "===>  TRAIN Epoch 16 :\n"
     ]
    },
    {
     "name": "stderr",
     "output_type": "stream",
     "text": [
      "0% [█] 100% | ETA: 00:00:00\n",
      "Total time elapsed: 00:00:06\n"
     ]
    },
    {
     "name": "stdout",
     "output_type": "stream",
     "text": [
      "Finished Epoch 16 || Run Time:    9.9 | Load Time:    0.0 || F1: 100.00 | Prec: 100.00 | Rec: 100.00 || Ex/s:  22.18\n",
      "\n",
      "===>  EVAL Epoch 16 :\n",
      "Finished Epoch 16 || Run Time:    0.4 | Load Time:    0.0 || F1:  91.67 | Prec: 100.00 | Rec:  84.62 || Ex/s:  70.19\n",
      "\n",
      "===>  TRAIN Epoch 17 :\n"
     ]
    },
    {
     "name": "stderr",
     "output_type": "stream",
     "text": [
      "0% [█] 100% | ETA: 00:00:00\n",
      "Total time elapsed: 00:00:06\n"
     ]
    },
    {
     "name": "stdout",
     "output_type": "stream",
     "text": [
      "Finished Epoch 17 || Run Time:    9.8 | Load Time:    0.0 || F1: 100.00 | Prec: 100.00 | Rec: 100.00 || Ex/s:  22.42\n",
      "\n",
      "===>  EVAL Epoch 17 :\n",
      "Finished Epoch 17 || Run Time:    0.4 | Load Time:    0.0 || F1:  91.67 | Prec: 100.00 | Rec:  84.62 || Ex/s:  70.20\n",
      "\n",
      "===>  TRAIN Epoch 18 :\n"
     ]
    },
    {
     "name": "stderr",
     "output_type": "stream",
     "text": [
      "0% [█] 100% | ETA: 00:00:00\n",
      "Total time elapsed: 00:00:06\n"
     ]
    },
    {
     "name": "stdout",
     "output_type": "stream",
     "text": [
      "Finished Epoch 18 || Run Time:    9.8 | Load Time:    0.0 || F1: 100.00 | Prec: 100.00 | Rec: 100.00 || Ex/s:  22.36\n",
      "\n",
      "===>  EVAL Epoch 18 :\n",
      "Finished Epoch 18 || Run Time:    0.4 | Load Time:    0.0 || F1:  91.67 | Prec: 100.00 | Rec:  84.62 || Ex/s:  69.50\n",
      "\n",
      "===>  TRAIN Epoch 19 :\n"
     ]
    },
    {
     "name": "stderr",
     "output_type": "stream",
     "text": [
      "0% [█] 100% | ETA: 00:00:00\n",
      "Total time elapsed: 00:00:06\n"
     ]
    },
    {
     "name": "stdout",
     "output_type": "stream",
     "text": [
      "Finished Epoch 19 || Run Time:    9.9 | Load Time:    0.0 || F1: 100.00 | Prec: 100.00 | Rec: 100.00 || Ex/s:  22.06\n",
      "\n",
      "===>  EVAL Epoch 19 :\n",
      "Finished Epoch 19 || Run Time:    0.4 | Load Time:    0.0 || F1:  91.67 | Prec: 100.00 | Rec:  84.62 || Ex/s:  70.71\n",
      "\n",
      "===>  TRAIN Epoch 20 :\n"
     ]
    },
    {
     "name": "stderr",
     "output_type": "stream",
     "text": [
      "0% [█] 100% | ETA: 00:00:00\n",
      "Total time elapsed: 00:00:06\n"
     ]
    },
    {
     "name": "stdout",
     "output_type": "stream",
     "text": [
      "Finished Epoch 20 || Run Time:    9.7 | Load Time:    0.0 || F1: 100.00 | Prec: 100.00 | Rec: 100.00 || Ex/s:  22.52\n",
      "\n",
      "===>  EVAL Epoch 20 :\n",
      "Finished Epoch 20 || Run Time:    0.4 | Load Time:    0.0 || F1:  91.67 | Prec: 100.00 | Rec:  84.62 || Ex/s:  70.17\n",
      "\n",
      "===>  TRAIN Epoch 21 :\n"
     ]
    },
    {
     "name": "stderr",
     "output_type": "stream",
     "text": [
      "0% [█] 100% | ETA: 00:00:00\n",
      "Total time elapsed: 00:00:06\n"
     ]
    },
    {
     "name": "stdout",
     "output_type": "stream",
     "text": [
      "Finished Epoch 21 || Run Time:    9.7 | Load Time:    0.0 || F1: 100.00 | Prec: 100.00 | Rec: 100.00 || Ex/s:  22.53\n",
      "\n",
      "===>  EVAL Epoch 21 :\n",
      "Finished Epoch 21 || Run Time:    0.4 | Load Time:    0.0 || F1:  91.67 | Prec: 100.00 | Rec:  84.62 || Ex/s:  70.45\n",
      "\n",
      "===>  TRAIN Epoch 22 :\n"
     ]
    },
    {
     "name": "stderr",
     "output_type": "stream",
     "text": [
      "0% [█] 100% | ETA: 00:00:00\n",
      "Total time elapsed: 00:00:06\n"
     ]
    },
    {
     "name": "stdout",
     "output_type": "stream",
     "text": [
      "Finished Epoch 22 || Run Time:    9.7 | Load Time:    0.0 || F1: 100.00 | Prec: 100.00 | Rec: 100.00 || Ex/s:  22.56\n",
      "\n",
      "===>  EVAL Epoch 22 :\n",
      "Finished Epoch 22 || Run Time:    0.4 | Load Time:    0.0 || F1:  91.67 | Prec: 100.00 | Rec:  84.62 || Ex/s:  70.10\n",
      "\n",
      "===>  TRAIN Epoch 23 :\n"
     ]
    },
    {
     "name": "stderr",
     "output_type": "stream",
     "text": [
      "0% [█] 100% | ETA: 00:00:00\n",
      "Total time elapsed: 00:00:06\n"
     ]
    },
    {
     "name": "stdout",
     "output_type": "stream",
     "text": [
      "Finished Epoch 23 || Run Time:    9.8 | Load Time:    0.0 || F1: 100.00 | Prec: 100.00 | Rec: 100.00 || Ex/s:  22.29\n",
      "\n",
      "===>  EVAL Epoch 23 :\n",
      "Finished Epoch 23 || Run Time:    0.4 | Load Time:    0.0 || F1:  91.67 | Prec: 100.00 | Rec:  84.62 || Ex/s:  70.17\n",
      "\n",
      "===>  TRAIN Epoch 24 :\n"
     ]
    },
    {
     "name": "stderr",
     "output_type": "stream",
     "text": [
      "0% [█] 100% | ETA: 00:00:00\n",
      "Total time elapsed: 00:00:06\n"
     ]
    },
    {
     "name": "stdout",
     "output_type": "stream",
     "text": [
      "Finished Epoch 24 || Run Time:    9.8 | Load Time:    0.0 || F1: 100.00 | Prec: 100.00 | Rec: 100.00 || Ex/s:  22.47\n",
      "\n",
      "===>  EVAL Epoch 24 :\n",
      "Finished Epoch 24 || Run Time:    0.4 | Load Time:    0.0 || F1:  91.67 | Prec: 100.00 | Rec:  84.62 || Ex/s:  70.47\n",
      "\n",
      "===>  TRAIN Epoch 25 :\n"
     ]
    },
    {
     "name": "stderr",
     "output_type": "stream",
     "text": [
      "0% [█] 100% | ETA: 00:00:00\n",
      "Total time elapsed: 00:00:06\n"
     ]
    },
    {
     "name": "stdout",
     "output_type": "stream",
     "text": [
      "Finished Epoch 25 || Run Time:    9.7 | Load Time:    0.0 || F1: 100.00 | Prec: 100.00 | Rec: 100.00 || Ex/s:  22.48\n",
      "\n",
      "===>  EVAL Epoch 25 :\n",
      "Finished Epoch 25 || Run Time:    0.4 | Load Time:    0.0 || F1:  91.67 | Prec: 100.00 | Rec:  84.62 || Ex/s:  71.11\n",
      "\n",
      "===>  TRAIN Epoch 26 :\n"
     ]
    },
    {
     "name": "stderr",
     "output_type": "stream",
     "text": [
      "0% [█] 100% | ETA: 00:00:00\n",
      "Total time elapsed: 00:00:06\n"
     ]
    },
    {
     "name": "stdout",
     "output_type": "stream",
     "text": [
      "Finished Epoch 26 || Run Time:    9.7 | Load Time:    0.0 || F1: 100.00 | Prec: 100.00 | Rec: 100.00 || Ex/s:  22.53\n",
      "\n",
      "===>  EVAL Epoch 26 :\n",
      "Finished Epoch 26 || Run Time:    0.4 | Load Time:    0.0 || F1:  91.67 | Prec: 100.00 | Rec:  84.62 || Ex/s:  70.89\n",
      "\n",
      "===>  TRAIN Epoch 27 :\n"
     ]
    },
    {
     "name": "stderr",
     "output_type": "stream",
     "text": [
      "0% [█] 100% | ETA: 00:00:00\n",
      "Total time elapsed: 00:00:06\n"
     ]
    },
    {
     "name": "stdout",
     "output_type": "stream",
     "text": [
      "Finished Epoch 27 || Run Time:    9.7 | Load Time:    0.0 || F1: 100.00 | Prec: 100.00 | Rec: 100.00 || Ex/s:  22.53\n",
      "\n",
      "===>  EVAL Epoch 27 :\n",
      "Finished Epoch 27 || Run Time:    0.4 | Load Time:    0.0 || F1:  91.67 | Prec: 100.00 | Rec:  84.62 || Ex/s:  70.03\n",
      "\n",
      "===>  TRAIN Epoch 28 :\n"
     ]
    },
    {
     "name": "stderr",
     "output_type": "stream",
     "text": [
      "0% [█] 100% | ETA: 00:00:00\n",
      "Total time elapsed: 00:00:06\n"
     ]
    },
    {
     "name": "stdout",
     "output_type": "stream",
     "text": [
      "Finished Epoch 28 || Run Time:    9.7 | Load Time:    0.0 || F1: 100.00 | Prec: 100.00 | Rec: 100.00 || Ex/s:  22.52\n",
      "\n",
      "===>  EVAL Epoch 28 :\n",
      "Finished Epoch 28 || Run Time:    0.4 | Load Time:    0.0 || F1:  91.67 | Prec: 100.00 | Rec:  84.62 || Ex/s:  70.43\n",
      "\n",
      "===>  TRAIN Epoch 29 :\n"
     ]
    },
    {
     "name": "stderr",
     "output_type": "stream",
     "text": [
      "0% [█] 100% | ETA: 00:00:00\n",
      "Total time elapsed: 00:00:06\n"
     ]
    },
    {
     "name": "stdout",
     "output_type": "stream",
     "text": [
      "Finished Epoch 29 || Run Time:    9.7 | Load Time:    0.0 || F1: 100.00 | Prec: 100.00 | Rec: 100.00 || Ex/s:  22.49\n",
      "\n",
      "===>  EVAL Epoch 29 :\n",
      "Finished Epoch 29 || Run Time:    0.4 | Load Time:    0.0 || F1:  91.67 | Prec: 100.00 | Rec:  84.62 || Ex/s:  70.48\n",
      "\n",
      "===>  TRAIN Epoch 30 :\n"
     ]
    },
    {
     "name": "stderr",
     "output_type": "stream",
     "text": [
      "0% [█] 100% | ETA: 00:00:00\n",
      "Total time elapsed: 00:00:06\n"
     ]
    },
    {
     "name": "stdout",
     "output_type": "stream",
     "text": [
      "Finished Epoch 30 || Run Time:    9.8 | Load Time:    0.0 || F1: 100.00 | Prec: 100.00 | Rec: 100.00 || Ex/s:  22.34\n",
      "\n",
      "===>  EVAL Epoch 30 :\n",
      "Finished Epoch 30 || Run Time:    0.4 | Load Time:    0.0 || F1:  91.67 | Prec: 100.00 | Rec:  84.62 || Ex/s:  69.89\n",
      "\n",
      "Loading best model...\n"
     ]
    }
   ],
   "source": [
    "model4.run_train(train, validation, best_save_path='hybrid_model3.pth')"
   ]
  },
  {
   "cell_type": "code",
   "execution_count": 34,
   "metadata": {},
   "outputs": [
    {
     "name": "stdout",
     "output_type": "stream",
     "text": [
      "===>  EVAL Epoch 10 :\n"
     ]
    },
    {
     "name": "stderr",
     "output_type": "stream",
     "text": [
      "0% [█] 100% | ETA: 00:00:00\n",
      "Total time elapsed: 00:00:02\n"
     ]
    },
    {
     "name": "stdout",
     "output_type": "stream",
     "text": [
      "Finished Epoch 10 || Run Time:    3.3 | Load Time:    0.1 || F1:  99.43 | Prec: 100.00 | Rec:  98.86 || Ex/s:  64.64\n",
      "\n"
     ]
    },
    {
     "data": {
      "text/plain": [
       "99.42857142857142"
      ]
     },
     "execution_count": 34,
     "metadata": {},
     "output_type": "execute_result"
    }
   ],
   "source": [
    "model4.run_eval(train)"
   ]
  },
  {
   "cell_type": "code",
   "execution_count": 35,
   "metadata": {},
   "outputs": [
    {
     "name": "stdout",
     "output_type": "stream",
     "text": [
      "===>  EVAL Epoch 10 :\n"
     ]
    },
    {
     "name": "stderr",
     "output_type": "stream",
     "text": [
      "0% [█] 100% | ETA: 00:00:00\n",
      "Total time elapsed: 00:00:02\n"
     ]
    },
    {
     "name": "stdout",
     "output_type": "stream",
     "text": [
      "Finished Epoch 10 || Run Time:    3.4 | Load Time:    0.1 || F1:  79.78 | Prec:  82.95 | Rec:  76.84 || Ex/s:  71.46\n",
      "\n"
     ]
    },
    {
     "data": {
      "text/plain": [
       "79.7814207650273"
      ]
     },
     "execution_count": 35,
     "metadata": {},
     "output_type": "execute_result"
    }
   ],
   "source": [
    "model4.run_eval(test)"
   ]
  },
  {
   "cell_type": "code",
   "execution_count": 37,
   "metadata": {},
   "outputs": [],
   "source": [
    "model5 = dm.MatchingModel(\n",
    "    attr_summarizer = dm.attr_summarizers.Hybrid(\n",
    "        word_comparator=dm.word_comparators.Attention(heads=4, input_dropout=0.2)))\n",
    "model5.initialize(train)"
   ]
  },
  {
   "cell_type": "code",
   "execution_count": 38,
   "metadata": {},
   "outputs": [
    {
     "name": "stdout",
     "output_type": "stream",
     "text": [
      "* Number of trainable parameters: 29675010\n",
      "===>  TRAIN Epoch 1 :\n"
     ]
    },
    {
     "name": "stderr",
     "output_type": "stream",
     "text": [
      "0% [█] 100% | ETA: 00:00:00\n",
      "Total time elapsed: 00:00:19\n"
     ]
    },
    {
     "name": "stdout",
     "output_type": "stream",
     "text": [
      "Finished Epoch 1 || Run Time:   30.0 | Load Time:    0.0 || F1:  30.97 | Prec:  35.82 | Rec:  27.27 || Ex/s:   7.32\n",
      "\n",
      "===>  EVAL Epoch 1 :\n",
      "Finished Epoch 1 || Run Time:    1.2 | Load Time:    0.0 || F1:  61.90 | Prec:  44.83 | Rec: 100.00 || Ex/s:  24.57\n",
      "\n",
      "* Best F1: 61.904761904761905\n",
      "Saving best model...\n",
      "===>  TRAIN Epoch 2 :\n"
     ]
    },
    {
     "name": "stderr",
     "output_type": "stream",
     "text": [
      "0% [█] 100% | ETA: 00:00:00\n",
      "Total time elapsed: 00:00:19\n"
     ]
    },
    {
     "name": "stdout",
     "output_type": "stream",
     "text": [
      "Finished Epoch 2 || Run Time:   29.7 | Load Time:    0.0 || F1:  19.82 | Prec:  47.83 | Rec:  12.50 || Ex/s:   7.40\n",
      "\n",
      "===>  EVAL Epoch 2 :\n",
      "Finished Epoch 2 || Run Time:    1.2 | Load Time:    0.0 || F1:   0.00 | Prec:   0.00 | Rec:   0.00 || Ex/s:  24.90\n",
      "\n",
      "===>  TRAIN Epoch 3 :\n"
     ]
    },
    {
     "name": "stderr",
     "output_type": "stream",
     "text": [
      "0% [█] 100% | ETA: 00:00:00\n",
      "Total time elapsed: 00:00:19\n"
     ]
    },
    {
     "name": "stdout",
     "output_type": "stream",
     "text": [
      "Finished Epoch 3 || Run Time:   29.8 | Load Time:    0.0 || F1:  20.75 | Prec:  61.11 | Rec:  12.50 || Ex/s:   7.38\n",
      "\n",
      "===>  EVAL Epoch 3 :\n",
      "Finished Epoch 3 || Run Time:    1.2 | Load Time:    0.0 || F1:  60.00 | Prec:  52.94 | Rec:  69.23 || Ex/s:  24.42\n",
      "\n",
      "===>  TRAIN Epoch 4 :\n"
     ]
    },
    {
     "name": "stderr",
     "output_type": "stream",
     "text": [
      "0% [█] 100% | ETA: 00:00:00\n",
      "Total time elapsed: 00:00:19\n"
     ]
    },
    {
     "name": "stdout",
     "output_type": "stream",
     "text": [
      "Finished Epoch 4 || Run Time:   29.4 | Load Time:    0.0 || F1:  72.62 | Prec:  76.25 | Rec:  69.32 || Ex/s:   7.46\n",
      "\n",
      "===>  EVAL Epoch 4 :\n",
      "Finished Epoch 4 || Run Time:    1.2 | Load Time:    0.0 || F1:  66.67 | Prec:  72.73 | Rec:  61.54 || Ex/s:  24.81\n",
      "\n",
      "* Best F1: 66.66666666666667\n",
      "Saving best model...\n",
      "===>  TRAIN Epoch 5 :\n"
     ]
    },
    {
     "name": "stderr",
     "output_type": "stream",
     "text": [
      "0% [█] 100% | ETA: 00:00:00\n",
      "Total time elapsed: 00:00:19\n"
     ]
    },
    {
     "name": "stdout",
     "output_type": "stream",
     "text": [
      "Finished Epoch 5 || Run Time:   29.5 | Load Time:    0.0 || F1:  71.43 | Prec:  75.00 | Rec:  68.18 || Ex/s:   7.45\n",
      "\n",
      "===>  EVAL Epoch 5 :\n",
      "Finished Epoch 5 || Run Time:    1.2 | Load Time:    0.0 || F1:  64.29 | Prec:  60.00 | Rec:  69.23 || Ex/s:  24.59\n",
      "\n",
      "===>  TRAIN Epoch 6 :\n"
     ]
    },
    {
     "name": "stderr",
     "output_type": "stream",
     "text": [
      "0% [█] 100% | ETA: 00:00:00\n",
      "Total time elapsed: 00:00:19\n"
     ]
    },
    {
     "name": "stdout",
     "output_type": "stream",
     "text": [
      "Finished Epoch 6 || Run Time:   29.5 | Load Time:    0.0 || F1:  72.00 | Prec:  72.41 | Rec:  71.59 || Ex/s:   7.44\n",
      "\n",
      "===>  EVAL Epoch 6 :\n",
      "Finished Epoch 6 || Run Time:    1.2 | Load Time:    0.0 || F1:  68.97 | Prec:  62.50 | Rec:  76.92 || Ex/s:  24.57\n",
      "\n",
      "* Best F1: 68.96551724137932\n",
      "Saving best model...\n",
      "===>  TRAIN Epoch 7 :\n"
     ]
    },
    {
     "name": "stderr",
     "output_type": "stream",
     "text": [
      "0% [█] 100% | ETA: 00:00:00\n",
      "Total time elapsed: 00:00:19\n"
     ]
    },
    {
     "name": "stdout",
     "output_type": "stream",
     "text": [
      "Finished Epoch 7 || Run Time:   29.8 | Load Time:    0.0 || F1:  75.98 | Prec:  74.73 | Rec:  77.27 || Ex/s:   7.36\n",
      "\n",
      "===>  EVAL Epoch 7 :\n",
      "Finished Epoch 7 || Run Time:    1.2 | Load Time:    0.0 || F1:  66.67 | Prec:  64.29 | Rec:  69.23 || Ex/s:  24.62\n",
      "\n",
      "===>  TRAIN Epoch 8 :\n"
     ]
    },
    {
     "name": "stderr",
     "output_type": "stream",
     "text": [
      "0% [█] 100% | ETA: 00:00:00\n",
      "Total time elapsed: 00:00:19\n"
     ]
    },
    {
     "name": "stdout",
     "output_type": "stream",
     "text": [
      "Finished Epoch 8 || Run Time:   29.5 | Load Time:    0.0 || F1:  78.86 | Prec:  79.31 | Rec:  78.41 || Ex/s:   7.44\n",
      "\n",
      "===>  EVAL Epoch 8 :\n",
      "Finished Epoch 8 || Run Time:    1.2 | Load Time:    0.0 || F1:  66.67 | Prec:  64.29 | Rec:  69.23 || Ex/s:  24.63\n",
      "\n",
      "===>  TRAIN Epoch 9 :\n"
     ]
    },
    {
     "name": "stderr",
     "output_type": "stream",
     "text": [
      "0% [█] 100% | ETA: 00:00:00\n",
      "Total time elapsed: 00:00:19\n"
     ]
    },
    {
     "name": "stdout",
     "output_type": "stream",
     "text": [
      "Finished Epoch 9 || Run Time:   29.4 | Load Time:    0.0 || F1:  80.68 | Prec:  80.68 | Rec:  80.68 || Ex/s:   7.46\n",
      "\n",
      "===>  EVAL Epoch 9 :\n",
      "Finished Epoch 9 || Run Time:    1.2 | Load Time:    0.0 || F1:  69.23 | Prec:  69.23 | Rec:  69.23 || Ex/s:  24.64\n",
      "\n",
      "* Best F1: 69.23076923076923\n",
      "Saving best model...\n",
      "===>  TRAIN Epoch 10 :\n"
     ]
    },
    {
     "name": "stderr",
     "output_type": "stream",
     "text": [
      "0% [█] 100% | ETA: 00:00:00\n",
      "Total time elapsed: 00:00:19\n"
     ]
    },
    {
     "name": "stdout",
     "output_type": "stream",
     "text": [
      "Finished Epoch 10 || Run Time:   30.0 | Load Time:    0.0 || F1:  82.29 | Prec:  82.76 | Rec:  81.82 || Ex/s:   7.31\n",
      "\n",
      "===>  EVAL Epoch 10 :\n",
      "Finished Epoch 10 || Run Time:    1.2 | Load Time:    0.0 || F1:  69.23 | Prec:  69.23 | Rec:  69.23 || Ex/s:  24.67\n",
      "\n",
      "===>  TRAIN Epoch 11 :\n"
     ]
    },
    {
     "name": "stderr",
     "output_type": "stream",
     "text": [
      "0% [█] 100% | ETA: 00:00:00\n",
      "Total time elapsed: 00:00:19\n"
     ]
    },
    {
     "name": "stdout",
     "output_type": "stream",
     "text": [
      "Finished Epoch 11 || Run Time:   30.2 | Load Time:    0.0 || F1:  84.39 | Prec:  85.88 | Rec:  82.95 || Ex/s:   7.28\n",
      "\n",
      "===>  EVAL Epoch 11 :\n",
      "Finished Epoch 11 || Run Time:    1.2 | Load Time:    0.0 || F1:  69.23 | Prec:  69.23 | Rec:  69.23 || Ex/s:  24.72\n",
      "\n",
      "===>  TRAIN Epoch 12 :\n"
     ]
    },
    {
     "name": "stderr",
     "output_type": "stream",
     "text": [
      "0% [█] 100% | ETA: 00:00:00\n",
      "Total time elapsed: 00:00:19\n"
     ]
    },
    {
     "name": "stdout",
     "output_type": "stream",
     "text": [
      "Finished Epoch 12 || Run Time:   29.8 | Load Time:    0.0 || F1:  85.55 | Prec:  87.06 | Rec:  84.09 || Ex/s:   7.36\n",
      "\n",
      "===>  EVAL Epoch 12 :\n",
      "Finished Epoch 12 || Run Time:    1.3 | Load Time:    0.0 || F1:  69.23 | Prec:  69.23 | Rec:  69.23 || Ex/s:  22.09\n",
      "\n",
      "===>  TRAIN Epoch 13 :\n"
     ]
    },
    {
     "name": "stderr",
     "output_type": "stream",
     "text": [
      "0% [█] 100% | ETA: 00:00:00\n",
      "Total time elapsed: 00:00:19\n"
     ]
    },
    {
     "name": "stdout",
     "output_type": "stream",
     "text": [
      "Finished Epoch 13 || Run Time:   29.8 | Load Time:    0.0 || F1:  85.38 | Prec:  87.95 | Rec:  82.95 || Ex/s:   7.37\n",
      "\n",
      "===>  EVAL Epoch 13 :\n",
      "Finished Epoch 13 || Run Time:    1.2 | Load Time:    0.0 || F1:  69.23 | Prec:  69.23 | Rec:  69.23 || Ex/s:  24.89\n",
      "\n",
      "===>  TRAIN Epoch 14 :\n"
     ]
    },
    {
     "name": "stderr",
     "output_type": "stream",
     "text": [
      "0% [█] 100% | ETA: 00:00:00\n",
      "Total time elapsed: 00:00:19\n"
     ]
    },
    {
     "name": "stdout",
     "output_type": "stream",
     "text": [
      "Finished Epoch 14 || Run Time:   29.7 | Load Time:    0.0 || F1:  87.72 | Prec:  90.36 | Rec:  85.23 || Ex/s:   7.39\n",
      "\n",
      "===>  EVAL Epoch 14 :\n",
      "Finished Epoch 14 || Run Time:    1.2 | Load Time:    0.0 || F1:  64.29 | Prec:  60.00 | Rec:  69.23 || Ex/s:  24.59\n",
      "\n",
      "===>  TRAIN Epoch 15 :\n"
     ]
    },
    {
     "name": "stderr",
     "output_type": "stream",
     "text": [
      "0% [█] 100% | ETA: 00:00:00\n",
      "Total time elapsed: 00:00:19\n"
     ]
    },
    {
     "name": "stdout",
     "output_type": "stream",
     "text": [
      "Finished Epoch 15 || Run Time:   29.8 | Load Time:    0.0 || F1:  87.72 | Prec:  90.36 | Rec:  85.23 || Ex/s:   7.37\n",
      "\n",
      "===>  EVAL Epoch 15 :\n",
      "Finished Epoch 15 || Run Time:    1.2 | Load Time:    0.0 || F1:  66.67 | Prec:  64.29 | Rec:  69.23 || Ex/s:  24.64\n",
      "\n",
      "===>  TRAIN Epoch 16 :\n"
     ]
    },
    {
     "name": "stderr",
     "output_type": "stream",
     "text": [
      "0% [█] 100% | ETA: 00:00:00\n",
      "Total time elapsed: 00:00:19\n"
     ]
    },
    {
     "name": "stdout",
     "output_type": "stream",
     "text": [
      "Finished Epoch 16 || Run Time:   29.8 | Load Time:    0.0 || F1:  88.24 | Prec:  91.46 | Rec:  85.23 || Ex/s:   7.37\n",
      "\n",
      "===>  EVAL Epoch 16 :\n",
      "Finished Epoch 16 || Run Time:    1.2 | Load Time:    0.0 || F1:  62.07 | Prec:  56.25 | Rec:  69.23 || Ex/s:  24.72\n",
      "\n",
      "===>  TRAIN Epoch 17 :\n"
     ]
    },
    {
     "name": "stderr",
     "output_type": "stream",
     "text": [
      "0% [█] 100% | ETA: 00:00:00\n",
      "Total time elapsed: 00:00:19\n"
     ]
    },
    {
     "name": "stdout",
     "output_type": "stream",
     "text": [
      "Finished Epoch 17 || Run Time:   29.7 | Load Time:    0.0 || F1:  88.89 | Prec:  91.57 | Rec:  86.36 || Ex/s:   7.40\n",
      "\n",
      "===>  EVAL Epoch 17 :\n",
      "Finished Epoch 17 || Run Time:    1.2 | Load Time:    0.0 || F1:  64.29 | Prec:  60.00 | Rec:  69.23 || Ex/s:  24.77\n",
      "\n",
      "===>  TRAIN Epoch 18 :\n"
     ]
    },
    {
     "name": "stderr",
     "output_type": "stream",
     "text": [
      "0% [█] 100% | ETA: 00:00:00\n",
      "Total time elapsed: 00:00:19\n"
     ]
    },
    {
     "name": "stdout",
     "output_type": "stream",
     "text": [
      "Finished Epoch 18 || Run Time:   30.0 | Load Time:    0.0 || F1:  88.37 | Prec:  90.48 | Rec:  86.36 || Ex/s:   7.32\n",
      "\n",
      "===>  EVAL Epoch 18 :\n",
      "Finished Epoch 18 || Run Time:    1.2 | Load Time:    0.0 || F1:  64.29 | Prec:  60.00 | Rec:  69.23 || Ex/s:  24.56\n",
      "\n",
      "===>  TRAIN Epoch 19 :\n"
     ]
    },
    {
     "name": "stderr",
     "output_type": "stream",
     "text": [
      "0% [█] 100% | ETA: 00:00:00\n",
      "Total time elapsed: 00:00:19\n"
     ]
    },
    {
     "name": "stdout",
     "output_type": "stream",
     "text": [
      "Finished Epoch 19 || Run Time:   29.8 | Load Time:    0.0 || F1:  89.41 | Prec:  92.68 | Rec:  86.36 || Ex/s:   7.36\n",
      "\n",
      "===>  EVAL Epoch 19 :\n",
      "Finished Epoch 19 || Run Time:    1.2 | Load Time:    0.0 || F1:  64.29 | Prec:  60.00 | Rec:  69.23 || Ex/s:  24.72\n",
      "\n",
      "===>  TRAIN Epoch 20 :\n"
     ]
    },
    {
     "name": "stderr",
     "output_type": "stream",
     "text": [
      "0% [█] 100% | ETA: 00:00:00\n",
      "Total time elapsed: 00:00:19\n"
     ]
    },
    {
     "name": "stdout",
     "output_type": "stream",
     "text": [
      "Finished Epoch 20 || Run Time:   29.8 | Load Time:    0.0 || F1:  90.70 | Prec:  92.86 | Rec:  88.64 || Ex/s:   7.37\n",
      "\n",
      "===>  EVAL Epoch 20 :\n",
      "Finished Epoch 20 || Run Time:    1.2 | Load Time:    0.0 || F1:  66.67 | Prec:  58.82 | Rec:  76.92 || Ex/s:  24.70\n",
      "\n",
      "===>  TRAIN Epoch 21 :\n"
     ]
    },
    {
     "name": "stderr",
     "output_type": "stream",
     "text": [
      "0% [█] 100% | ETA: 00:00:00\n",
      "Total time elapsed: 00:00:19\n"
     ]
    },
    {
     "name": "stdout",
     "output_type": "stream",
     "text": [
      "Finished Epoch 21 || Run Time:   30.0 | Load Time:    0.0 || F1:  90.06 | Prec:  92.77 | Rec:  87.50 || Ex/s:   7.32\n",
      "\n",
      "===>  EVAL Epoch 21 :\n",
      "Finished Epoch 21 || Run Time:    1.2 | Load Time:    0.0 || F1:  68.97 | Prec:  62.50 | Rec:  76.92 || Ex/s:  24.74\n",
      "\n",
      "===>  TRAIN Epoch 22 :\n"
     ]
    },
    {
     "name": "stderr",
     "output_type": "stream",
     "text": [
      "0% [█] 100% | ETA: 00:00:00\n",
      "Total time elapsed: 00:00:19\n"
     ]
    },
    {
     "name": "stdout",
     "output_type": "stream",
     "text": [
      "Finished Epoch 22 || Run Time:   30.2 | Load Time:    0.0 || F1:  90.59 | Prec:  93.90 | Rec:  87.50 || Ex/s:   7.27\n",
      "\n",
      "===>  EVAL Epoch 22 :\n",
      "Finished Epoch 22 || Run Time:    1.2 | Load Time:    0.0 || F1:  64.29 | Prec:  60.00 | Rec:  69.23 || Ex/s:  24.46\n",
      "\n",
      "===>  TRAIN Epoch 23 :\n"
     ]
    },
    {
     "name": "stderr",
     "output_type": "stream",
     "text": [
      "0% [█] 100% | ETA: 00:00:00\n",
      "Total time elapsed: 00:00:19\n"
     ]
    },
    {
     "name": "stdout",
     "output_type": "stream",
     "text": [
      "Finished Epoch 23 || Run Time:   30.0 | Load Time:    0.0 || F1:  90.06 | Prec:  92.77 | Rec:  87.50 || Ex/s:   7.32\n",
      "\n",
      "===>  EVAL Epoch 23 :\n",
      "Finished Epoch 23 || Run Time:    1.2 | Load Time:    0.0 || F1:  68.97 | Prec:  62.50 | Rec:  76.92 || Ex/s:  24.53\n",
      "\n",
      "===>  TRAIN Epoch 24 :\n"
     ]
    },
    {
     "name": "stderr",
     "output_type": "stream",
     "text": [
      "0% [█] 100% | ETA: 00:00:00\n",
      "Total time elapsed: 00:00:20\n"
     ]
    },
    {
     "name": "stdout",
     "output_type": "stream",
     "text": [
      "Finished Epoch 24 || Run Time:   30.9 | Load Time:    0.0 || F1:  92.94 | Prec:  96.34 | Rec:  89.77 || Ex/s:   7.11\n",
      "\n",
      "===>  EVAL Epoch 24 :\n",
      "Finished Epoch 24 || Run Time:    1.4 | Load Time:    0.0 || F1:  68.97 | Prec:  62.50 | Rec:  76.92 || Ex/s:  22.01\n",
      "\n",
      "===>  TRAIN Epoch 25 :\n"
     ]
    },
    {
     "name": "stderr",
     "output_type": "stream",
     "text": [
      "0% [█] 100% | ETA: 00:00:00\n",
      "Total time elapsed: 00:00:19\n"
     ]
    },
    {
     "name": "stdout",
     "output_type": "stream",
     "text": [
      "Finished Epoch 25 || Run Time:   30.0 | Load Time:    0.0 || F1:  91.95 | Prec:  93.02 | Rec:  90.91 || Ex/s:   7.33\n",
      "\n",
      "===>  EVAL Epoch 25 :\n",
      "Finished Epoch 25 || Run Time:    1.2 | Load Time:    0.0 || F1:  68.97 | Prec:  62.50 | Rec:  76.92 || Ex/s:  24.47\n",
      "\n",
      "===>  TRAIN Epoch 26 :\n"
     ]
    },
    {
     "name": "stderr",
     "output_type": "stream",
     "text": [
      "0% [█] 100% | ETA: 00:00:00\n",
      "Total time elapsed: 00:00:19\n"
     ]
    },
    {
     "name": "stdout",
     "output_type": "stream",
     "text": [
      "Finished Epoch 26 || Run Time:   30.0 | Load Time:    0.0 || F1:  90.80 | Prec:  91.86 | Rec:  89.77 || Ex/s:   7.33\n",
      "\n",
      "===>  EVAL Epoch 26 :\n",
      "Finished Epoch 26 || Run Time:    1.2 | Load Time:    0.0 || F1:  68.97 | Prec:  62.50 | Rec:  76.92 || Ex/s:  24.56\n",
      "\n",
      "===>  TRAIN Epoch 27 :\n"
     ]
    },
    {
     "name": "stderr",
     "output_type": "stream",
     "text": [
      "0% [█] 100% | ETA: 00:00:00\n",
      "Total time elapsed: 00:00:19\n"
     ]
    },
    {
     "name": "stdout",
     "output_type": "stream",
     "text": [
      "Finished Epoch 27 || Run Time:   29.9 | Load Time:    0.0 || F1:  92.40 | Prec:  95.18 | Rec:  89.77 || Ex/s:   7.35\n",
      "\n",
      "===>  EVAL Epoch 27 :\n",
      "Finished Epoch 27 || Run Time:    1.2 | Load Time:    0.0 || F1:  68.97 | Prec:  62.50 | Rec:  76.92 || Ex/s:  24.61\n",
      "\n",
      "===>  TRAIN Epoch 28 :\n"
     ]
    },
    {
     "name": "stderr",
     "output_type": "stream",
     "text": [
      "0% [█] 100% | ETA: 00:00:00\n",
      "Total time elapsed: 00:00:19\n"
     ]
    },
    {
     "name": "stdout",
     "output_type": "stream",
     "text": [
      "Finished Epoch 28 || Run Time:   29.9 | Load Time:    0.0 || F1:  90.70 | Prec:  92.86 | Rec:  88.64 || Ex/s:   7.34\n",
      "\n",
      "===>  EVAL Epoch 28 :\n",
      "Finished Epoch 28 || Run Time:    1.2 | Load Time:    0.0 || F1:  68.97 | Prec:  62.50 | Rec:  76.92 || Ex/s:  24.70\n",
      "\n",
      "===>  TRAIN Epoch 29 :\n"
     ]
    },
    {
     "name": "stderr",
     "output_type": "stream",
     "text": [
      "0% [█] 100% | ETA: 00:00:00\n",
      "Total time elapsed: 00:00:19\n"
     ]
    },
    {
     "name": "stdout",
     "output_type": "stream",
     "text": [
      "Finished Epoch 29 || Run Time:   29.9 | Load Time:    0.0 || F1:  91.86 | Prec:  94.05 | Rec:  89.77 || Ex/s:   7.35\n",
      "\n",
      "===>  EVAL Epoch 29 :\n",
      "Finished Epoch 29 || Run Time:    1.2 | Load Time:    0.0 || F1:  68.97 | Prec:  62.50 | Rec:  76.92 || Ex/s:  24.83\n",
      "\n",
      "===>  TRAIN Epoch 30 :\n"
     ]
    },
    {
     "name": "stderr",
     "output_type": "stream",
     "text": [
      "0% [█] 100% | ETA: 00:00:00\n",
      "Total time elapsed: 00:00:19\n"
     ]
    },
    {
     "name": "stdout",
     "output_type": "stream",
     "text": [
      "Finished Epoch 30 || Run Time:   30.2 | Load Time:    0.0 || F1:  91.33 | Prec:  92.94 | Rec:  89.77 || Ex/s:   7.26\n",
      "\n",
      "===>  EVAL Epoch 30 :\n",
      "Finished Epoch 30 || Run Time:    1.2 | Load Time:    0.0 || F1:  68.97 | Prec:  62.50 | Rec:  76.92 || Ex/s:  25.08\n",
      "\n",
      "Loading best model...\n"
     ]
    }
   ],
   "source": [
    "model5.run_train(train, validation, best_save_path='hybrid_model5.pth')"
   ]
  },
  {
   "cell_type": "code",
   "execution_count": 39,
   "metadata": {},
   "outputs": [
    {
     "name": "stdout",
     "output_type": "stream",
     "text": [
      "===>  EVAL Epoch 9 :\n"
     ]
    },
    {
     "name": "stderr",
     "output_type": "stream",
     "text": [
      "0% [█] 100% | ETA: 00:00:00\n",
      "Total time elapsed: 00:00:05\n"
     ]
    },
    {
     "name": "stdout",
     "output_type": "stream",
     "text": [
      "Finished Epoch 9 || Run Time:    9.1 | Load Time:    0.1 || F1:  77.95 | Prec:  71.03 | Rec:  86.36 || Ex/s:  24.03\n",
      "\n"
     ]
    },
    {
     "data": {
      "text/plain": [
       "77.94871794871796"
      ]
     },
     "execution_count": 39,
     "metadata": {},
     "output_type": "execute_result"
    }
   ],
   "source": [
    "model5.run_eval(train)"
   ]
  },
  {
   "cell_type": "code",
   "execution_count": 40,
   "metadata": {},
   "outputs": [
    {
     "name": "stdout",
     "output_type": "stream",
     "text": [
      "===>  EVAL Epoch 9 :\n"
     ]
    },
    {
     "name": "stderr",
     "output_type": "stream",
     "text": [
      "0% [█] 100% | ETA: 00:00:00\n",
      "Total time elapsed: 00:00:05\n"
     ]
    },
    {
     "name": "stdout",
     "output_type": "stream",
     "text": [
      "Finished Epoch 9 || Run Time:    9.3 | Load Time:    0.1 || F1:  60.75 | Prec:  54.62 | Rec:  68.42 || Ex/s:  26.63\n",
      "\n"
     ]
    },
    {
     "data": {
      "text/plain": [
       "60.747663551401864"
      ]
     },
     "execution_count": 40,
     "metadata": {},
     "output_type": "execute_result"
    }
   ],
   "source": [
    "model5.run_eval(test)"
   ]
  },
  {
   "cell_type": "code",
   "execution_count": null,
   "metadata": {},
   "outputs": [],
   "source": []
  }
 ],
 "metadata": {
  "kernelspec": {
   "display_name": "Python 3",
   "language": "python",
   "name": "python3"
  },
  "language_info": {
   "codemirror_mode": {
    "name": "ipython",
    "version": 3
   },
   "file_extension": ".py",
   "mimetype": "text/x-python",
   "name": "python",
   "nbconvert_exporter": "python",
   "pygments_lexer": "ipython3",
   "version": "3.6.3"
  }
 },
 "nbformat": 4,
 "nbformat_minor": 2
}
